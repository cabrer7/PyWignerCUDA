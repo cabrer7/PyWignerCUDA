{
 "metadata": {
  "name": "",
  "signature": "sha256:cc020e6e472cfbd75542d5b8cfed9980fa3710b9611e03f6f37faf3628933988"
 },
 "nbformat": 3,
 "nbformat_minor": 0,
 "worksheets": [
  {
   "cells": [
    {
     "cell_type": "heading",
     "level": 1,
     "metadata": {},
     "source": [
      "Quantum Dissipation in a $x^2$ potential"
     ]
    },
    {
     "cell_type": "heading",
     "level": 2,
     "metadata": {},
     "source": [
      "$V = c x^2$"
     ]
    },
    {
     "cell_type": "heading",
     "level": 4,
     "metadata": {},
     "source": [
      "The dissipation model is"
     ]
    },
    {
     "cell_type": "heading",
     "level": 4,
     "metadata": {},
     "source": [
      "$A = $"
     ]
    },
    {
     "cell_type": "code",
     "collapsed": false,
     "input": [
      "import pickle\n",
      "import h5py\n",
      "import numpy as np\n",
      "import scipy.fftpack as fftpack\n",
      "\n",
      "from scipy.special import hyp1f1\n",
      "import pylab as plt\n",
      "import scipy.linalg as linalg\n",
      "import time\n",
      "#import ctypes\n",
      "from string import Template\n",
      "import sys\n",
      "import os\n",
      "\n",
      "import pycuda.gpuarray as gpuarray\n",
      "import pycuda.driver as cuda\n",
      "from pycuda.compiler import SourceModule\n",
      "import pycuda.autoinit\n",
      "\n",
      "#import cublas\n",
      "\n",
      "import scikits.cuda.linalg as cu_linalg\n",
      "cu_linalg.init()\n",
      "\n",
      "from pywignercuda_path import SetPyWignerCUDA_Path\n",
      "SetPyWignerCUDA_Path()\n",
      "\n",
      "from PropagatorGPU_Rho2D_MUBasis import *\n",
      "\n",
      "import matplotlib\n",
      "\n",
      "%matplotlib inline"
     ],
     "language": "python",
     "metadata": {},
     "outputs": [],
     "prompt_number": 1
    },
    {
     "cell_type": "code",
     "collapsed": false,
     "input": [
      "#Defining parameters\n",
      "\n",
      "X_gridDIM = 256\n",
      "X_amplitude =  20 \n",
      "\n",
      "dt= 0.005\n",
      "timeSteps =      20000\n",
      "skipFrames =        50\n",
      "\n",
      "\n",
      "epsilon = 1e-4\n",
      "gamma = 0.05       # Dissipation coefficient\n",
      "D_Theta = 0.000\n",
      "lambdaBar = 10\n",
      "gammaRenormalization = 1.15\n",
      "\n",
      "\n",
      "print ' Evolution time ',timeSteps*dt"
     ],
     "language": "python",
     "metadata": {},
     "outputs": [
      {
       "output_type": "stream",
       "stream": "stdout",
       "text": [
        " Evolution time  100.0\n"
       ]
      }
     ],
     "prompt_number": 2
    },
    {
     "cell_type": "code",
     "collapsed": false,
     "input": [
      "# Defining the instance \n",
      "\n",
      "class Rho2D_Dissipation_X2(Rho2D_Dissipation):\n",
      "    \"\"\"\n",
      "    Instance for dissipative dynamics     \n",
      "    \"\"\"\n",
      "    def __init__(self):\n",
      "        \n",
      "        self.omega = 1\n",
      "        self.x_init = -0.\n",
      "        self.p_init =  3.\n",
      "        n = 0 \n",
      "        mass = 1\n",
      "        \n",
      "        constantX2 = 0.5*mass*self.omega**2\n",
      "        # Potential and derivative of potential        \n",
      "        self.potentialString = '{0}*pow(x,2)'.format( constantX2 )\n",
      "\n",
      "        self.dPotentialString = '2.*{0}*x'.format( constantX2 )\n",
      "        \n",
      "        # Data output file\n",
      "        self.fileName = '/home/rcabrera/DATA/Rho2D/Ohmic/L{0}_epsilon{1}_grid{2}_amplitude{3}'.format(lambdaBar,epsilon,X_gridDIM,X_amplitude)\n",
      "        self.fileName += '/Rho2D_ODMDamping_XX_PInit{0}_Omega{1}.hdf5'.format(self.p_init,self.omega)\n",
      "        \n",
      "        # Lindbladian operator A\n",
      "        self.A_fileName = '/home/rcabrera/Documents/source/python/PyWignerCUDA/instances/Rho2D/Ohmic/'\n",
      "        self.A_fileName += 'L{0}_epsilon{1}_grid{2}_amplitude{3}'.format(lambdaBar,epsilon,X_gridDIM,X_amplitude)\n",
      "        self.A_fileName += '/Lindblad_A.hdf5'\n",
      "                \n",
      "        Rho2D_Dissipation.__init__(\n",
      "                self,X_gridDIM,X_amplitude,dt,timeSteps,skipFrames,mass,gamma,D_Theta) \n",
      "        \n",
      "        # Setting initial state   \n",
      "        self.Rho_init = self.Rho_HarmonicOscillator(n,self.omega,self.x_init, self.p_init)\n",
      "                                                                  "
     ],
     "language": "python",
     "metadata": {},
     "outputs": [],
     "prompt_number": 3
    },
    {
     "cell_type": "code",
     "collapsed": false,
     "input": [
      "instance = Rho2D_Dissipation_X2()\n"
     ],
     "language": "python",
     "metadata": {},
     "outputs": [
      {
       "output_type": "stream",
       "stream": "stdout",
       "text": [
        "V(x)     =  0.5*pow(x,2)\n",
        "            \n",
        "dV(x)/dx =  2.*0.5*x\n"
       ]
      }
     ],
     "prompt_number": 4
    },
    {
     "cell_type": "code",
     "collapsed": false,
     "input": [
      "energySpectrum = np.sort( linalg.eigvals( instance.H  ).real )\n",
      "\n",
      "print '         dX = ',instance.dX , '           dP   =',instance.dP\n",
      "print ' X_Amplitude = ',instance.X_amplitude , ' P_Amplitude = ',instance.P_amplitude \n",
      "\n",
      "print '  '\n",
      "print ' Harm Osc  Potential with energy spectrum '\n",
      "fig, ax = plt.subplots(figsize=(10, 10))\n",
      "X_range = instance.X_Range() \n",
      "ax.plot( X_range  ,   instance.Potential(0,X_range  ) ,color = 'r')\n",
      "\n",
      "map( lambda x: ax.plot( [-X_amplitude,X_amplitude], [x,x] , color='gray' )  ,energySpectrum)\n",
      "\n",
      "ax.set_xlim(-10,10)\n",
      "ax.set_ylim(0,30)\n",
      "ax.set_xlabel('x')\n",
      "ax.set_ylabel('V')\n",
      "ax.set_aspect(1./2.)\n",
      "#ax.grid('on')"
     ],
     "language": "python",
     "metadata": {},
     "outputs": [
      {
       "output_type": "stream",
       "stream": "stdout",
       "text": [
        "         dX =  0.15625            dP   = 0.157079632679\n",
        " X_Amplitude =  20  P_Amplitude =  20.106192983\n",
        "  \n",
        " Harm Osc  Potential with energy spectrum \n"
       ]
      },
      {
       "metadata": {},
       "output_type": "display_data",
       "png": "[encoded data removed]",
       "text": [
        "<matplotlib.figure.Figure at 0x7fcd0a9d3390>"
       ]
      }
     ],
     "prompt_number": 5
    },
    {
     "cell_type": "code",
     "collapsed": false,
     "input": [
      "if os.path.isfile( instance.A_fileName )==True:\n",
      "    \n",
      "    print 'Loading A file'\n",
      "    A,epsilon,lambdaBar = instance.LoadLindbladianOperatorA( instance.A_fileName )\n",
      "    \n",
      "else:\n",
      "    \n",
      "    print 'Starting the computation of Ohmic Lindbladian operator A'\n",
      "    \n",
      "    initial_time = time.time()\n",
      "\n",
      "    A = instance.A_Ohmic( lambdaBar , epsilon )\n",
      "\n",
      "    print \"--- Calculation time \", time.time() - initial_time , ' s '\n",
      "    \n",
      "    instance.SaveLindbladianOperatorA( instance.A_fileName , A ,epsilon,lambdaBar)"
     ],
     "language": "python",
     "metadata": {},
     "outputs": [
      {
       "output_type": "stream",
       "stream": "stdout",
       "text": [
        "Loading A file\n"
       ]
      }
     ],
     "prompt_number": 7
    },
    {
     "cell_type": "heading",
     "level": 2,
     "metadata": {},
     "source": [
      "RUN"
     ]
    },
    {
     "cell_type": "code",
     "collapsed": false,
     "input": [
      "initial_time = time.time()\n",
      "\n",
      "instance.Run( epsilon, A, gammaRenormalization, gamma )\n",
      "\n",
      "print \"--- Calculation time \", time.time() - initial_time , ' s '"
     ],
     "language": "python",
     "metadata": {},
     "outputs": [
      {
       "output_type": "stream",
       "stream": "stdout",
       "text": [
        "progress  0 %\n",
        "progress "
       ]
      },
      {
       "output_type": "stream",
       "stream": "stdout",
       "text": [
        " 0 %\n",
        "progress "
       ]
      },
      {
       "output_type": "stream",
       "stream": "stdout",
       "text": [
        " 0 %\n",
        "progress "
       ]
      },
      {
       "output_type": "stream",
       "stream": "stdout",
       "text": [
        " 0 %\n",
        "progress "
       ]
      },
      {
       "output_type": "stream",
       "stream": "stdout",
       "text": [
        " 0 %\n",
        "progress "
       ]
      },
      {
       "output_type": "stream",
       "stream": "stdout",
       "text": [
        " 1 %\n",
        "progress "
       ]
      },
      {
       "output_type": "stream",
       "stream": "stdout",
       "text": [
        " 1 %\n",
        "progress "
       ]
      },
      {
       "output_type": "stream",
       "stream": "stdout",
       "text": [
        " 1 %\n",
        "progress "
       ]
      },
      {
       "output_type": "stream",
       "stream": "stdout",
       "text": [
        " 1 %\n",
        "progress "
       ]
      },
      {
       "output_type": "stream",
       "stream": "stdout",
       "text": [
        " 2 %\n",
        "progress "
       ]
      },
      {
       "output_type": "stream",
       "stream": "stdout",
       "text": [
        " 2 %\n",
        "progress "
       ]
      },
      {
       "output_type": "stream",
       "stream": "stdout",
       "text": [
        " 2 %\n",
        "progress "
       ]
      },
      {
       "output_type": "stream",
       "stream": "stdout",
       "text": [
        " 2 %\n",
        "progress "
       ]
      },
      {
       "output_type": "stream",
       "stream": "stdout",
       "text": [
        " 3 %\n",
        "progress "
       ]
      },
      {
       "output_type": "stream",
       "stream": "stdout",
       "text": [
        " 3 %\n",
        "progress "
       ]
      },
      {
       "output_type": "stream",
       "stream": "stdout",
       "text": [
        " 3 %\n",
        "progress "
       ]
      },
      {
       "output_type": "stream",
       "stream": "stdout",
       "text": [
        " 3 %\n",
        "progress "
       ]
      },
      {
       "output_type": "stream",
       "stream": "stdout",
       "text": [
        " 4 %\n",
        "progress "
       ]
      },
      {
       "output_type": "stream",
       "stream": "stdout",
       "text": [
        " 4 %\n",
        "progress "
       ]
      },
      {
       "output_type": "stream",
       "stream": "stdout",
       "text": [
        " 4 %\n",
        "progress "
       ]
      },
      {
       "output_type": "stream",
       "stream": "stdout",
       "text": [
        " 4 %\n",
        "progress "
       ]
      },
      {
       "output_type": "stream",
       "stream": "stdout",
       "text": [
        " 5 %\n",
        "progress "
       ]
      },
      {
       "output_type": "stream",
       "stream": "stdout",
       "text": [
        " 5 %\n",
        "progress "
       ]
      },
      {
       "output_type": "stream",
       "stream": "stdout",
       "text": [
        " 5 %\n",
        "progress "
       ]
      },
      {
       "output_type": "stream",
       "stream": "stdout",
       "text": [
        " 5 %\n",
        "progress "
       ]
      },
      {
       "output_type": "stream",
       "stream": "stdout",
       "text": [
        " 6 %\n",
        "progress "
       ]
      },
      {
       "output_type": "stream",
       "stream": "stdout",
       "text": [
        " 6 %\n",
        "progress "
       ]
      },
      {
       "output_type": "stream",
       "stream": "stdout",
       "text": [
        " 6 %\n",
        "progress "
       ]
      },
      {
       "output_type": "stream",
       "stream": "stdout",
       "text": [
        " 6 %\n",
        "progress "
       ]
      },
      {
       "output_type": "stream",
       "stream": "stdout",
       "text": [
        " 7 %\n",
        "progress "
       ]
      },
      {
       "output_type": "stream",
       "stream": "stdout",
       "text": [
        " 7 %\n",
        "progress "
       ]
      },
      {
       "output_type": "stream",
       "stream": "stdout",
       "text": [
        " 7 %\n",
        "progress "
       ]
      },
      {
       "output_type": "stream",
       "stream": "stdout",
       "text": [
        " 7 %\n",
        "progress "
       ]
      },
      {
       "output_type": "stream",
       "stream": "stdout",
       "text": [
        " 8 %\n",
        "progress "
       ]
      },
      {
       "output_type": "stream",
       "stream": "stdout",
       "text": [
        " 8 %\n",
        "progress "
       ]
      },
      {
       "output_type": "stream",
       "stream": "stdout",
       "text": [
        " 8 %\n",
        "progress "
       ]
      },
      {
       "output_type": "stream",
       "stream": "stdout",
       "text": [
        " 8 %\n",
        "progress "
       ]
      },
      {
       "output_type": "stream",
       "stream": "stdout",
       "text": [
        " 9 %\n",
        "progress "
       ]
      },
      {
       "output_type": "stream",
       "stream": "stdout",
       "text": [
        " 9 %\n",
        "progress "
       ]
      },
      {
       "output_type": "stream",
       "stream": "stdout",
       "text": [
        " 9 %\n",
        "progress "
       ]
      },
      {
       "output_type": "stream",
       "stream": "stdout",
       "text": [
        " 9 %\n",
        "progress "
       ]
      },
      {
       "output_type": "stream",
       "stream": "stdout",
       "text": [
        " 10 %\n",
        "progress "
       ]
      },
      {
       "output_type": "stream",
       "stream": "stdout",
       "text": [
        " 10 %\n",
        "progress "
       ]
      },
      {
       "output_type": "stream",
       "stream": "stdout",
       "text": [
        " 10 %\n",
        "progress "
       ]
      },
      {
       "output_type": "stream",
       "stream": "stdout",
       "text": [
        " 10 %\n",
        "progress "
       ]
      },
      {
       "output_type": "stream",
       "stream": "stdout",
       "text": [
        " 11 %\n",
        "progress "
       ]
      },
      {
       "output_type": "stream",
       "stream": "stdout",
       "text": [
        " 11 %\n",
        "progress "
       ]
      },
      {
       "output_type": "stream",
       "stream": "stdout",
       "text": [
        " 11 %\n",
        "progress "
       ]
      },
      {
       "output_type": "stream",
       "stream": "stdout",
       "text": [
        " 11 %\n",
        "progress "
       ]
      },
      {
       "output_type": "stream",
       "stream": "stdout",
       "text": [
        " 12 %\n",
        "progress "
       ]
      },
      {
       "output_type": "stream",
       "stream": "stdout",
       "text": [
        " 12 %\n",
        "progress "
       ]
      },
      {
       "output_type": "stream",
       "stream": "stdout",
       "text": [
        " 12 %\n",
        "progress "
       ]
      },
      {
       "output_type": "stream",
       "stream": "stdout",
       "text": [
        " 12 %\n",
        "progress "
       ]
      },
      {
       "output_type": "stream",
       "stream": "stdout",
       "text": [
        " 13 %\n",
        "progress "
       ]
      },
      {
       "output_type": "stream",
       "stream": "stdout",
       "text": [
        " 13 %\n",
        "progress "
       ]
      },
      {
       "output_type": "stream",
       "stream": "stdout",
       "text": [
        " 13 %\n",
        "progress "
       ]
      },
      {
       "output_type": "stream",
       "stream": "stdout",
       "text": [
        " 13 %\n",
        "progress "
       ]
      },
      {
       "output_type": "stream",
       "stream": "stdout",
       "text": [
        " 14 %\n",
        "progress "
       ]
      },
      {
       "output_type": "stream",
       "stream": "stdout",
       "text": [
        " 14 %\n",
        "progress "
       ]
      },
      {
       "output_type": "stream",
       "stream": "stdout",
       "text": [
        " 14 %\n",
        "progress "
       ]
      },
      {
       "output_type": "stream",
       "stream": "stdout",
       "text": [
        " 14 %\n",
        "progress "
       ]
      },
      {
       "output_type": "stream",
       "stream": "stdout",
       "text": [
        " 15 %\n",
        "progress "
       ]
      },
      {
       "output_type": "stream",
       "stream": "stdout",
       "text": [
        " 15 %\n",
        "progress "
       ]
      },
      {
       "output_type": "stream",
       "stream": "stdout",
       "text": [
        " 15 %\n",
        "progress "
       ]
      },
      {
       "output_type": "stream",
       "stream": "stdout",
       "text": [
        " 15 %\n",
        "progress "
       ]
      },
      {
       "output_type": "stream",
       "stream": "stdout",
       "text": [
        " 16 %\n",
        "progress "
       ]
      },
      {
       "output_type": "stream",
       "stream": "stdout",
       "text": [
        " 16 %\n",
        "progress "
       ]
      },
      {
       "output_type": "stream",
       "stream": "stdout",
       "text": [
        " 16 %\n",
        "progress "
       ]
      },
      {
       "output_type": "stream",
       "stream": "stdout",
       "text": [
        " 16 %\n",
        "progress "
       ]
      },
      {
       "output_type": "stream",
       "stream": "stdout",
       "text": [
        " 17 %\n",
        "progress "
       ]
      },
      {
       "output_type": "stream",
       "stream": "stdout",
       "text": [
        " 17 %\n",
        "progress "
       ]
      },
      {
       "output_type": "stream",
       "stream": "stdout",
       "text": [
        " 17 %\n",
        "progress "
       ]
      },
      {
       "output_type": "stream",
       "stream": "stdout",
       "text": [
        " 17 %\n",
        "progress "
       ]
      },
      {
       "output_type": "stream",
       "stream": "stdout",
       "text": [
        " 18 %\n",
        "progress "
       ]
      },
      {
       "output_type": "stream",
       "stream": "stdout",
       "text": [
        " 18 %\n",
        "progress "
       ]
      },
      {
       "output_type": "stream",
       "stream": "stdout",
       "text": [
        " 18 %\n",
        "progress "
       ]
      },
      {
       "output_type": "stream",
       "stream": "stdout",
       "text": [
        " 18 %\n",
        "progress "
       ]
      },
      {
       "output_type": "stream",
       "stream": "stdout",
       "text": [
        " 19 %\n",
        "progress "
       ]
      },
      {
       "output_type": "stream",
       "stream": "stdout",
       "text": [
        " 19 %\n",
        "progress "
       ]
      },
      {
       "output_type": "stream",
       "stream": "stdout",
       "text": [
        " 19 %\n",
        "progress "
       ]
      },
      {
       "output_type": "stream",
       "stream": "stdout",
       "text": [
        " 19 %\n",
        "progress "
       ]
      },
      {
       "output_type": "stream",
       "stream": "stdout",
       "text": [
        " 20 %\n",
        "progress "
       ]
      },
      {
       "output_type": "stream",
       "stream": "stdout",
       "text": [
        " 20 %\n",
        "progress "
       ]
      },
      {
       "output_type": "stream",
       "stream": "stdout",
       "text": [
        " 20 %\n",
        "progress "
       ]
      },
      {
       "output_type": "stream",
       "stream": "stdout",
       "text": [
        " 20 %\n",
        "progress "
       ]
      },
      {
       "output_type": "stream",
       "stream": "stdout",
       "text": [
        " 21 %\n",
        "progress "
       ]
      },
      {
       "output_type": "stream",
       "stream": "stdout",
       "text": [
        " 21 %\n",
        "progress "
       ]
      },
      {
       "output_type": "stream",
       "stream": "stdout",
       "text": [
        " 21 %\n",
        "progress "
       ]
      },
      {
       "output_type": "stream",
       "stream": "stdout",
       "text": [
        " 21 %\n",
        "progress "
       ]
      },
      {
       "output_type": "stream",
       "stream": "stdout",
       "text": [
        " 22 %\n",
        "progress "
       ]
      },
      {
       "output_type": "stream",
       "stream": "stdout",
       "text": [
        " 22 %\n",
        "progress "
       ]
      },
      {
       "output_type": "stream",
       "stream": "stdout",
       "text": [
        " 22 %\n",
        "progress "
       ]
      },
      {
       "output_type": "stream",
       "stream": "stdout",
       "text": [
        " 22 %\n",
        "progress "
       ]
      },
      {
       "output_type": "stream",
       "stream": "stdout",
       "text": [
        " 23 %\n",
        "progress "
       ]
      },
      {
       "output_type": "stream",
       "stream": "stdout",
       "text": [
        " 23 %\n",
        "progress "
       ]
      },
      {
       "output_type": "stream",
       "stream": "stdout",
       "text": [
        " 23 %\n",
        "progress "
       ]
      },
      {
       "output_type": "stream",
       "stream": "stdout",
       "text": [
        " 23 %\n",
        "progress "
       ]
      },
      {
       "output_type": "stream",
       "stream": "stdout",
       "text": [
        " 24 %\n",
        "progress "
       ]
      },
      {
       "output_type": "stream",
       "stream": "stdout",
       "text": [
        " 24 %\n",
        "progress "
       ]
      },
      {
       "output_type": "stream",
       "stream": "stdout",
       "text": [
        " 24 %\n",
        "progress "
       ]
      },
      {
       "output_type": "stream",
       "stream": "stdout",
       "text": [
        " 24 %\n",
        "progress "
       ]
      },
      {
       "output_type": "stream",
       "stream": "stdout",
       "text": [
        " 25 %\n",
        "progress "
       ]
      },
      {
       "output_type": "stream",
       "stream": "stdout",
       "text": [
        " 25 %\n",
        "progress "
       ]
      },
      {
       "output_type": "stream",
       "stream": "stdout",
       "text": [
        " 25 %\n",
        "progress "
       ]
      },
      {
       "output_type": "stream",
       "stream": "stdout",
       "text": [
        " 25 %\n",
        "progress "
       ]
      },
      {
       "output_type": "stream",
       "stream": "stdout",
       "text": [
        " 26 %\n",
        "progress "
       ]
      },
      {
       "output_type": "stream",
       "stream": "stdout",
       "text": [
        " 26 %\n",
        "progress "
       ]
      },
      {
       "output_type": "stream",
       "stream": "stdout",
       "text": [
        " 26 %\n",
        "progress "
       ]
      },
      {
       "output_type": "stream",
       "stream": "stdout",
       "text": [
        " 26 %\n",
        "progress "
       ]
      },
      {
       "output_type": "stream",
       "stream": "stdout",
       "text": [
        " 27 %\n",
        "progress "
       ]
      },
      {
       "output_type": "stream",
       "stream": "stdout",
       "text": [
        " 27 %\n",
        "progress "
       ]
      },
      {
       "output_type": "stream",
       "stream": "stdout",
       "text": [
        " 27 %\n",
        "progress "
       ]
      },
      {
       "output_type": "stream",
       "stream": "stdout",
       "text": [
        " 27 %\n",
        "progress "
       ]
      },
      {
       "output_type": "stream",
       "stream": "stdout",
       "text": [
        " 28 %\n",
        "progress "
       ]
      },
      {
       "output_type": "stream",
       "stream": "stdout",
       "text": [
        " 28 %\n",
        "progress "
       ]
      },
      {
       "output_type": "stream",
       "stream": "stdout",
       "text": [
        " 28 %\n",
        "progress "
       ]
      },
      {
       "output_type": "stream",
       "stream": "stdout",
       "text": [
        " 28 %\n",
        "progress "
       ]
      },
      {
       "output_type": "stream",
       "stream": "stdout",
       "text": [
        " 29 %\n",
        "progress "
       ]
      },
      {
       "output_type": "stream",
       "stream": "stdout",
       "text": [
        " 29 %\n",
        "progress "
       ]
      },
      {
       "output_type": "stream",
       "stream": "stdout",
       "text": [
        " 29 %\n",
        "progress "
       ]
      },
      {
       "output_type": "stream",
       "stream": "stdout",
       "text": [
        " 29 %\n",
        "progress "
       ]
      },
      {
       "output_type": "stream",
       "stream": "stdout",
       "text": [
        " 30 %\n",
        "progress "
       ]
      },
      {
       "output_type": "stream",
       "stream": "stdout",
       "text": [
        " 30 %\n",
        "progress "
       ]
      },
      {
       "output_type": "stream",
       "stream": "stdout",
       "text": [
        " 30 %\n",
        "progress "
       ]
      },
      {
       "output_type": "stream",
       "stream": "stdout",
       "text": [
        " 30 %\n",
        "progress "
       ]
      },
      {
       "output_type": "stream",
       "stream": "stdout",
       "text": [
        " 31 %\n",
        "progress "
       ]
      },
      {
       "output_type": "stream",
       "stream": "stdout",
       "text": [
        " 31 %\n",
        "progress "
       ]
      },
      {
       "output_type": "stream",
       "stream": "stdout",
       "text": [
        " 31 %\n",
        "progress "
       ]
      },
      {
       "output_type": "stream",
       "stream": "stdout",
       "text": [
        " 31 %\n",
        "progress "
       ]
      },
      {
       "output_type": "stream",
       "stream": "stdout",
       "text": [
        " 32 %\n",
        "progress "
       ]
      },
      {
       "output_type": "stream",
       "stream": "stdout",
       "text": [
        " 32 %\n",
        "progress "
       ]
      },
      {
       "output_type": "stream",
       "stream": "stdout",
       "text": [
        " 32 %\n",
        "progress "
       ]
      },
      {
       "output_type": "stream",
       "stream": "stdout",
       "text": [
        " 32 %\n",
        "progress "
       ]
      },
      {
       "output_type": "stream",
       "stream": "stdout",
       "text": [
        " 33 %\n",
        "progress "
       ]
      },
      {
       "output_type": "stream",
       "stream": "stdout",
       "text": [
        " 33 %\n",
        "progress "
       ]
      },
      {
       "output_type": "stream",
       "stream": "stdout",
       "text": [
        " 33 %\n",
        "progress "
       ]
      },
      {
       "output_type": "stream",
       "stream": "stdout",
       "text": [
        " 33 %\n",
        "progress "
       ]
      },
      {
       "output_type": "stream",
       "stream": "stdout",
       "text": [
        " 34 %\n",
        "progress "
       ]
      },
      {
       "output_type": "stream",
       "stream": "stdout",
       "text": [
        " 34 %\n",
        "progress "
       ]
      },
      {
       "output_type": "stream",
       "stream": "stdout",
       "text": [
        " 34 %\n",
        "progress "
       ]
      },
      {
       "output_type": "stream",
       "stream": "stdout",
       "text": [
        " 34 %\n",
        "progress "
       ]
      },
      {
       "output_type": "stream",
       "stream": "stdout",
       "text": [
        " 35 %\n",
        "progress "
       ]
      },
      {
       "output_type": "stream",
       "stream": "stdout",
       "text": [
        " 35 %\n",
        "progress "
       ]
      },
      {
       "output_type": "stream",
       "stream": "stdout",
       "text": [
        " 35 %\n",
        "progress "
       ]
      },
      {
       "output_type": "stream",
       "stream": "stdout",
       "text": [
        " 35 %\n",
        "progress "
       ]
      },
      {
       "output_type": "stream",
       "stream": "stdout",
       "text": [
        " 36 %\n",
        "progress "
       ]
      },
      {
       "output_type": "stream",
       "stream": "stdout",
       "text": [
        " 36 %\n",
        "progress "
       ]
      },
      {
       "output_type": "stream",
       "stream": "stdout",
       "text": [
        " 36 %\n",
        "progress "
       ]
      },
      {
       "output_type": "stream",
       "stream": "stdout",
       "text": [
        " 36 %\n",
        "progress "
       ]
      },
      {
       "output_type": "stream",
       "stream": "stdout",
       "text": [
        " 37 %\n",
        "progress "
       ]
      },
      {
       "output_type": "stream",
       "stream": "stdout",
       "text": [
        " 37 %\n",
        "progress "
       ]
      },
      {
       "output_type": "stream",
       "stream": "stdout",
       "text": [
        " 37 %\n",
        "progress "
       ]
      },
      {
       "output_type": "stream",
       "stream": "stdout",
       "text": [
        " 37 %\n",
        "progress "
       ]
      },
      {
       "output_type": "stream",
       "stream": "stdout",
       "text": [
        " 38 %\n",
        "progress "
       ]
      },
      {
       "output_type": "stream",
       "stream": "stdout",
       "text": [
        " 38 %\n",
        "progress "
       ]
      },
      {
       "output_type": "stream",
       "stream": "stdout",
       "text": [
        " 38 %\n",
        "progress "
       ]
      },
      {
       "output_type": "stream",
       "stream": "stdout",
       "text": [
        " 38 %\n",
        "progress "
       ]
      },
      {
       "output_type": "stream",
       "stream": "stdout",
       "text": [
        " 39 %\n",
        "progress "
       ]
      },
      {
       "output_type": "stream",
       "stream": "stdout",
       "text": [
        " 39 %\n",
        "progress "
       ]
      },
      {
       "output_type": "stream",
       "stream": "stdout",
       "text": [
        " 39 %\n",
        "progress "
       ]
      },
      {
       "output_type": "stream",
       "stream": "stdout",
       "text": [
        " 39 %\n",
        "progress "
       ]
      },
      {
       "output_type": "stream",
       "stream": "stdout",
       "text": [
        " 40 %\n",
        "progress "
       ]
      },
      {
       "output_type": "stream",
       "stream": "stdout",
       "text": [
        " 40 %\n",
        "progress "
       ]
      },
      {
       "output_type": "stream",
       "stream": "stdout",
       "text": [
        " 40 %\n",
        "progress "
       ]
      },
      {
       "output_type": "stream",
       "stream": "stdout",
       "text": [
        " 40 %\n",
        "progress "
       ]
      },
      {
       "output_type": "stream",
       "stream": "stdout",
       "text": [
        " 41 %\n",
        "progress "
       ]
      },
      {
       "output_type": "stream",
       "stream": "stdout",
       "text": [
        " 41 %\n",
        "progress "
       ]
      },
      {
       "output_type": "stream",
       "stream": "stdout",
       "text": [
        " 41 %\n",
        "progress "
       ]
      },
      {
       "output_type": "stream",
       "stream": "stdout",
       "text": [
        " 41 %\n",
        "progress "
       ]
      },
      {
       "output_type": "stream",
       "stream": "stdout",
       "text": [
        " 42 %\n",
        "progress "
       ]
      },
      {
       "output_type": "stream",
       "stream": "stdout",
       "text": [
        " 42 %\n",
        "progress "
       ]
      },
      {
       "output_type": "stream",
       "stream": "stdout",
       "text": [
        " 42 %\n",
        "progress "
       ]
      },
      {
       "output_type": "stream",
       "stream": "stdout",
       "text": [
        " 42 %\n",
        "progress "
       ]
      },
      {
       "output_type": "stream",
       "stream": "stdout",
       "text": [
        " 43 %\n",
        "progress "
       ]
      },
      {
       "output_type": "stream",
       "stream": "stdout",
       "text": [
        " 43 %\n",
        "progress "
       ]
      },
      {
       "output_type": "stream",
       "stream": "stdout",
       "text": [
        " 43 %\n",
        "progress "
       ]
      },
      {
       "output_type": "stream",
       "stream": "stdout",
       "text": [
        " 43 %\n",
        "progress "
       ]
      },
      {
       "output_type": "stream",
       "stream": "stdout",
       "text": [
        " 44 %\n",
        "progress "
       ]
      },
      {
       "output_type": "stream",
       "stream": "stdout",
       "text": [
        " 44 %\n",
        "progress "
       ]
      },
      {
       "output_type": "stream",
       "stream": "stdout",
       "text": [
        " 44 %\n",
        "progress "
       ]
      },
      {
       "output_type": "stream",
       "stream": "stdout",
       "text": [
        " 44 %\n",
        "progress "
       ]
      },
      {
       "output_type": "stream",
       "stream": "stdout",
       "text": [
        " 45 %\n",
        "progress "
       ]
      },
      {
       "output_type": "stream",
       "stream": "stdout",
       "text": [
        " 45 %\n",
        "progress "
       ]
      },
      {
       "output_type": "stream",
       "stream": "stdout",
       "text": [
        " 45 %\n",
        "progress "
       ]
      },
      {
       "output_type": "stream",
       "stream": "stdout",
       "text": [
        " 45 %\n",
        "progress "
       ]
      },
      {
       "output_type": "stream",
       "stream": "stdout",
       "text": [
        " 46 %\n",
        "progress "
       ]
      },
      {
       "output_type": "stream",
       "stream": "stdout",
       "text": [
        " 46 %\n",
        "progress "
       ]
      },
      {
       "output_type": "stream",
       "stream": "stdout",
       "text": [
        " 46 %\n",
        "progress "
       ]
      },
      {
       "output_type": "stream",
       "stream": "stdout",
       "text": [
        " 46 %\n",
        "progress "
       ]
      },
      {
       "output_type": "stream",
       "stream": "stdout",
       "text": [
        " 47 %\n",
        "progress "
       ]
      },
      {
       "output_type": "stream",
       "stream": "stdout",
       "text": [
        " 47 %\n",
        "progress "
       ]
      },
      {
       "output_type": "stream",
       "stream": "stdout",
       "text": [
        " 47 %\n",
        "progress "
       ]
      },
      {
       "output_type": "stream",
       "stream": "stdout",
       "text": [
        " 47 %\n",
        "progress "
       ]
      },
      {
       "output_type": "stream",
       "stream": "stdout",
       "text": [
        " 48 %\n",
        "progress "
       ]
      },
      {
       "output_type": "stream",
       "stream": "stdout",
       "text": [
        " 48 %\n",
        "progress "
       ]
      },
      {
       "output_type": "stream",
       "stream": "stdout",
       "text": [
        " 48 %\n",
        "progress "
       ]
      },
      {
       "output_type": "stream",
       "stream": "stdout",
       "text": [
        " 48 %\n",
        "progress "
       ]
      },
      {
       "output_type": "stream",
       "stream": "stdout",
       "text": [
        " 49 %\n",
        "progress "
       ]
      },
      {
       "output_type": "stream",
       "stream": "stdout",
       "text": [
        " 49 %\n",
        "progress "
       ]
      },
      {
       "output_type": "stream",
       "stream": "stdout",
       "text": [
        " 49 %\n",
        "progress "
       ]
      },
      {
       "output_type": "stream",
       "stream": "stdout",
       "text": [
        " 49 %\n",
        "progress "
       ]
      },
      {
       "output_type": "stream",
       "stream": "stdout",
       "text": [
        " 50 %\n",
        "progress "
       ]
      },
      {
       "output_type": "stream",
       "stream": "stdout",
       "text": [
        " 50 %\n",
        "progress "
       ]
      },
      {
       "output_type": "stream",
       "stream": "stdout",
       "text": [
        " 50 %\n",
        "progress "
       ]
      },
      {
       "output_type": "stream",
       "stream": "stdout",
       "text": [
        " 50 %\n",
        "progress "
       ]
      },
      {
       "output_type": "stream",
       "stream": "stdout",
       "text": [
        " 51 %\n",
        "progress "
       ]
      },
      {
       "output_type": "stream",
       "stream": "stdout",
       "text": [
        " 51 %\n",
        "progress "
       ]
      },
      {
       "output_type": "stream",
       "stream": "stdout",
       "text": [
        " 51 %\n",
        "progress "
       ]
      },
      {
       "output_type": "stream",
       "stream": "stdout",
       "text": [
        " 51 %\n",
        "progress "
       ]
      },
      {
       "output_type": "stream",
       "stream": "stdout",
       "text": [
        " 52 %\n",
        "progress "
       ]
      },
      {
       "output_type": "stream",
       "stream": "stdout",
       "text": [
        " 52 %\n",
        "progress "
       ]
      },
      {
       "output_type": "stream",
       "stream": "stdout",
       "text": [
        " 52 %\n",
        "progress "
       ]
      },
      {
       "output_type": "stream",
       "stream": "stdout",
       "text": [
        " 52 %\n",
        "progress "
       ]
      },
      {
       "output_type": "stream",
       "stream": "stdout",
       "text": [
        " 53 %\n",
        "progress "
       ]
      },
      {
       "output_type": "stream",
       "stream": "stdout",
       "text": [
        " 53 %\n",
        "progress "
       ]
      },
      {
       "output_type": "stream",
       "stream": "stdout",
       "text": [
        " 53 %\n",
        "progress "
       ]
      },
      {
       "output_type": "stream",
       "stream": "stdout",
       "text": [
        " 53 %\n",
        "progress "
       ]
      },
      {
       "output_type": "stream",
       "stream": "stdout",
       "text": [
        " 54 %\n",
        "progress "
       ]
      },
      {
       "output_type": "stream",
       "stream": "stdout",
       "text": [
        " 54 %\n",
        "progress "
       ]
      },
      {
       "output_type": "stream",
       "stream": "stdout",
       "text": [
        " 54 %\n",
        "progress "
       ]
      },
      {
       "output_type": "stream",
       "stream": "stdout",
       "text": [
        " 54 %\n",
        "progress "
       ]
      },
      {
       "output_type": "stream",
       "stream": "stdout",
       "text": [
        " 55 %\n",
        "progress "
       ]
      },
      {
       "output_type": "stream",
       "stream": "stdout",
       "text": [
        " 55 %\n",
        "progress "
       ]
      },
      {
       "output_type": "stream",
       "stream": "stdout",
       "text": [
        " 55 %\n",
        "progress "
       ]
      },
      {
       "output_type": "stream",
       "stream": "stdout",
       "text": [
        " 55 %\n",
        "progress "
       ]
      },
      {
       "output_type": "stream",
       "stream": "stdout",
       "text": [
        " 56 %\n",
        "progress "
       ]
      },
      {
       "output_type": "stream",
       "stream": "stdout",
       "text": [
        " 56 %\n",
        "progress "
       ]
      },
      {
       "output_type": "stream",
       "stream": "stdout",
       "text": [
        " 56 %\n",
        "progress "
       ]
      },
      {
       "output_type": "stream",
       "stream": "stdout",
       "text": [
        " 56 %\n",
        "progress "
       ]
      },
      {
       "output_type": "stream",
       "stream": "stdout",
       "text": [
        " 57 %\n",
        "progress "
       ]
      },
      {
       "output_type": "stream",
       "stream": "stdout",
       "text": [
        " 57 %\n",
        "progress "
       ]
      },
      {
       "output_type": "stream",
       "stream": "stdout",
       "text": [
        " 57 %\n",
        "progress "
       ]
      },
      {
       "output_type": "stream",
       "stream": "stdout",
       "text": [
        " 57 %\n",
        "progress "
       ]
      },
      {
       "output_type": "stream",
       "stream": "stdout",
       "text": [
        " 58 %\n",
        "progress "
       ]
      },
      {
       "output_type": "stream",
       "stream": "stdout",
       "text": [
        " 58 %\n",
        "progress "
       ]
      },
      {
       "output_type": "stream",
       "stream": "stdout",
       "text": [
        " 58 %\n",
        "progress "
       ]
      },
      {
       "output_type": "stream",
       "stream": "stdout",
       "text": [
        " 58 %\n",
        "progress "
       ]
      },
      {
       "output_type": "stream",
       "stream": "stdout",
       "text": [
        " 59 %\n",
        "progress "
       ]
      },
      {
       "output_type": "stream",
       "stream": "stdout",
       "text": [
        " 59 %\n",
        "progress "
       ]
      },
      {
       "output_type": "stream",
       "stream": "stdout",
       "text": [
        " 59 %\n",
        "progress "
       ]
      },
      {
       "output_type": "stream",
       "stream": "stdout",
       "text": [
        " 59 %\n",
        "progress "
       ]
      },
      {
       "output_type": "stream",
       "stream": "stdout",
       "text": [
        " 60 %\n",
        "progress "
       ]
      },
      {
       "output_type": "stream",
       "stream": "stdout",
       "text": [
        " 60 %\n",
        "progress "
       ]
      },
      {
       "output_type": "stream",
       "stream": "stdout",
       "text": [
        " 60 %\n",
        "progress "
       ]
      },
      {
       "output_type": "stream",
       "stream": "stdout",
       "text": [
        " 60 %\n",
        "progress "
       ]
      },
      {
       "output_type": "stream",
       "stream": "stdout",
       "text": [
        " 61 %\n",
        "progress "
       ]
      },
      {
       "output_type": "stream",
       "stream": "stdout",
       "text": [
        " 61 %\n",
        "progress "
       ]
      },
      {
       "output_type": "stream",
       "stream": "stdout",
       "text": [
        " 61 %\n",
        "progress "
       ]
      },
      {
       "output_type": "stream",
       "stream": "stdout",
       "text": [
        " 61 %\n",
        "progress "
       ]
      },
      {
       "output_type": "stream",
       "stream": "stdout",
       "text": [
        " 62 %\n",
        "progress "
       ]
      },
      {
       "output_type": "stream",
       "stream": "stdout",
       "text": [
        " 62 %\n",
        "progress "
       ]
      },
      {
       "output_type": "stream",
       "stream": "stdout",
       "text": [
        " 62 %\n",
        "progress "
       ]
      },
      {
       "output_type": "stream",
       "stream": "stdout",
       "text": [
        " 62 %\n",
        "progress "
       ]
      },
      {
       "output_type": "stream",
       "stream": "stdout",
       "text": [
        " 63 %\n",
        "progress "
       ]
      },
      {
       "output_type": "stream",
       "stream": "stdout",
       "text": [
        " 63 %\n",
        "progress "
       ]
      },
      {
       "output_type": "stream",
       "stream": "stdout",
       "text": [
        " 63 %\n",
        "progress "
       ]
      },
      {
       "output_type": "stream",
       "stream": "stdout",
       "text": [
        " 63 %\n",
        "progress "
       ]
      },
      {
       "output_type": "stream",
       "stream": "stdout",
       "text": [
        " 64 %\n",
        "progress "
       ]
      },
      {
       "output_type": "stream",
       "stream": "stdout",
       "text": [
        " 64 %\n",
        "progress "
       ]
      },
      {
       "output_type": "stream",
       "stream": "stdout",
       "text": [
        " 64 %\n",
        "progress "
       ]
      },
      {
       "output_type": "stream",
       "stream": "stdout",
       "text": [
        " 64 %\n",
        "progress "
       ]
      },
      {
       "output_type": "stream",
       "stream": "stdout",
       "text": [
        " 65 %\n",
        "progress "
       ]
      },
      {
       "output_type": "stream",
       "stream": "stdout",
       "text": [
        " 65 %\n",
        "progress "
       ]
      },
      {
       "output_type": "stream",
       "stream": "stdout",
       "text": [
        " 65 %\n",
        "progress "
       ]
      },
      {
       "output_type": "stream",
       "stream": "stdout",
       "text": [
        " 65 %\n",
        "progress "
       ]
      },
      {
       "output_type": "stream",
       "stream": "stdout",
       "text": [
        " 66 %\n",
        "progress "
       ]
      },
      {
       "output_type": "stream",
       "stream": "stdout",
       "text": [
        " 66 %\n",
        "progress "
       ]
      },
      {
       "output_type": "stream",
       "stream": "stdout",
       "text": [
        " 66 %\n",
        "progress "
       ]
      },
      {
       "output_type": "stream",
       "stream": "stdout",
       "text": [
        " 66 %\n",
        "progress "
       ]
      },
      {
       "output_type": "stream",
       "stream": "stdout",
       "text": [
        " 67 %\n",
        "progress "
       ]
      },
      {
       "output_type": "stream",
       "stream": "stdout",
       "text": [
        " 67 %\n",
        "progress "
       ]
      },
      {
       "output_type": "stream",
       "stream": "stdout",
       "text": [
        " 67 %\n",
        "progress "
       ]
      },
      {
       "output_type": "stream",
       "stream": "stdout",
       "text": [
        " 67 %\n",
        "progress "
       ]
      },
      {
       "output_type": "stream",
       "stream": "stdout",
       "text": [
        " 68 %\n",
        "progress "
       ]
      },
      {
       "output_type": "stream",
       "stream": "stdout",
       "text": [
        " 68 %\n",
        "progress "
       ]
      },
      {
       "output_type": "stream",
       "stream": "stdout",
       "text": [
        " 68 %\n",
        "progress "
       ]
      },
      {
       "output_type": "stream",
       "stream": "stdout",
       "text": [
        " 68 %\n",
        "progress "
       ]
      },
      {
       "output_type": "stream",
       "stream": "stdout",
       "text": [
        " 69 %\n",
        "progress "
       ]
      },
      {
       "output_type": "stream",
       "stream": "stdout",
       "text": [
        " 69 %\n",
        "progress "
       ]
      },
      {
       "output_type": "stream",
       "stream": "stdout",
       "text": [
        " 69 %\n",
        "progress "
       ]
      },
      {
       "output_type": "stream",
       "stream": "stdout",
       "text": [
        " 69 %\n",
        "progress "
       ]
      },
      {
       "output_type": "stream",
       "stream": "stdout",
       "text": [
        " 70 %\n",
        "progress "
       ]
      },
      {
       "output_type": "stream",
       "stream": "stdout",
       "text": [
        " 70 %\n",
        "progress "
       ]
      },
      {
       "output_type": "stream",
       "stream": "stdout",
       "text": [
        " 70 %\n",
        "progress "
       ]
      },
      {
       "output_type": "stream",
       "stream": "stdout",
       "text": [
        " 70 %\n",
        "progress "
       ]
      },
      {
       "output_type": "stream",
       "stream": "stdout",
       "text": [
        " 71 %\n",
        "progress "
       ]
      },
      {
       "output_type": "stream",
       "stream": "stdout",
       "text": [
        " 71 %\n",
        "progress "
       ]
      },
      {
       "output_type": "stream",
       "stream": "stdout",
       "text": [
        " 71 %\n",
        "progress "
       ]
      },
      {
       "output_type": "stream",
       "stream": "stdout",
       "text": [
        " 71 %\n",
        "progress "
       ]
      },
      {
       "output_type": "stream",
       "stream": "stdout",
       "text": [
        " 72 %\n",
        "progress "
       ]
      },
      {
       "output_type": "stream",
       "stream": "stdout",
       "text": [
        " 72 %\n",
        "progress "
       ]
      },
      {
       "output_type": "stream",
       "stream": "stdout",
       "text": [
        " 72 %\n",
        "progress "
       ]
      },
      {
       "output_type": "stream",
       "stream": "stdout",
       "text": [
        " 72 %\n",
        "progress "
       ]
      },
      {
       "output_type": "stream",
       "stream": "stdout",
       "text": [
        " 73 %\n",
        "progress "
       ]
      },
      {
       "output_type": "stream",
       "stream": "stdout",
       "text": [
        " 73 %\n",
        "progress "
       ]
      },
      {
       "output_type": "stream",
       "stream": "stdout",
       "text": [
        " 73 %\n",
        "progress "
       ]
      },
      {
       "output_type": "stream",
       "stream": "stdout",
       "text": [
        " 73 %\n",
        "progress "
       ]
      },
      {
       "output_type": "stream",
       "stream": "stdout",
       "text": [
        " 74 %\n",
        "progress "
       ]
      },
      {
       "output_type": "stream",
       "stream": "stdout",
       "text": [
        " 74 %\n",
        "progress "
       ]
      },
      {
       "output_type": "stream",
       "stream": "stdout",
       "text": [
        " 74 %\n",
        "progress "
       ]
      },
      {
       "output_type": "stream",
       "stream": "stdout",
       "text": [
        " 74 %\n",
        "progress "
       ]
      },
      {
       "output_type": "stream",
       "stream": "stdout",
       "text": [
        " 75 %\n",
        "progress "
       ]
      },
      {
       "output_type": "stream",
       "stream": "stdout",
       "text": [
        " 75 %\n",
        "progress "
       ]
      },
      {
       "output_type": "stream",
       "stream": "stdout",
       "text": [
        " 75 %\n",
        "progress "
       ]
      },
      {
       "output_type": "stream",
       "stream": "stdout",
       "text": [
        " 75 %\n",
        "progress "
       ]
      },
      {
       "output_type": "stream",
       "stream": "stdout",
       "text": [
        " 76 %\n",
        "progress "
       ]
      },
      {
       "output_type": "stream",
       "stream": "stdout",
       "text": [
        " 76 %\n",
        "progress "
       ]
      },
      {
       "output_type": "stream",
       "stream": "stdout",
       "text": [
        " 76 %\n",
        "progress "
       ]
      },
      {
       "output_type": "stream",
       "stream": "stdout",
       "text": [
        " 76 %\n",
        "progress "
       ]
      },
      {
       "output_type": "stream",
       "stream": "stdout",
       "text": [
        " 77 %\n",
        "progress "
       ]
      },
      {
       "output_type": "stream",
       "stream": "stdout",
       "text": [
        " 77 %\n",
        "progress "
       ]
      },
      {
       "output_type": "stream",
       "stream": "stdout",
       "text": [
        " 77 %\n",
        "progress "
       ]
      },
      {
       "output_type": "stream",
       "stream": "stdout",
       "text": [
        " 77 %\n",
        "progress "
       ]
      },
      {
       "output_type": "stream",
       "stream": "stdout",
       "text": [
        " 78 %\n",
        "progress "
       ]
      },
      {
       "output_type": "stream",
       "stream": "stdout",
       "text": [
        " 78 %\n",
        "progress "
       ]
      },
      {
       "output_type": "stream",
       "stream": "stdout",
       "text": [
        " 78 %\n",
        "progress "
       ]
      },
      {
       "output_type": "stream",
       "stream": "stdout",
       "text": [
        " 78 %\n",
        "progress "
       ]
      },
      {
       "output_type": "stream",
       "stream": "stdout",
       "text": [
        " 79 %\n",
        "progress "
       ]
      },
      {
       "output_type": "stream",
       "stream": "stdout",
       "text": [
        " 79 %\n",
        "progress "
       ]
      },
      {
       "output_type": "stream",
       "stream": "stdout",
       "text": [
        " 79 %\n",
        "progress "
       ]
      },
      {
       "output_type": "stream",
       "stream": "stdout",
       "text": [
        " 79 %\n",
        "progress "
       ]
      },
      {
       "output_type": "stream",
       "stream": "stdout",
       "text": [
        " 80 %\n",
        "progress "
       ]
      },
      {
       "output_type": "stream",
       "stream": "stdout",
       "text": [
        " 80 %\n",
        "progress "
       ]
      },
      {
       "output_type": "stream",
       "stream": "stdout",
       "text": [
        " 80 %\n",
        "progress "
       ]
      },
      {
       "output_type": "stream",
       "stream": "stdout",
       "text": [
        " 80 %\n",
        "progress "
       ]
      },
      {
       "output_type": "stream",
       "stream": "stdout",
       "text": [
        " 81 %\n",
        "progress "
       ]
      },
      {
       "output_type": "stream",
       "stream": "stdout",
       "text": [
        " 81 %\n",
        "progress "
       ]
      },
      {
       "output_type": "stream",
       "stream": "stdout",
       "text": [
        " 81 %\n",
        "progress "
       ]
      },
      {
       "output_type": "stream",
       "stream": "stdout",
       "text": [
        " 81 %\n",
        "progress "
       ]
      },
      {
       "output_type": "stream",
       "stream": "stdout",
       "text": [
        " 82 %\n",
        "progress "
       ]
      },
      {
       "output_type": "stream",
       "stream": "stdout",
       "text": [
        " 82 %\n",
        "progress "
       ]
      },
      {
       "output_type": "stream",
       "stream": "stdout",
       "text": [
        " 82 %\n",
        "progress "
       ]
      },
      {
       "output_type": "stream",
       "stream": "stdout",
       "text": [
        " 82 %\n",
        "progress "
       ]
      },
      {
       "output_type": "stream",
       "stream": "stdout",
       "text": [
        " 83 %\n",
        "progress "
       ]
      },
      {
       "output_type": "stream",
       "stream": "stdout",
       "text": [
        " 83 %\n",
        "progress "
       ]
      },
      {
       "output_type": "stream",
       "stream": "stdout",
       "text": [
        " 83 %\n",
        "progress "
       ]
      },
      {
       "output_type": "stream",
       "stream": "stdout",
       "text": [
        " 83 %\n",
        "progress "
       ]
      },
      {
       "output_type": "stream",
       "stream": "stdout",
       "text": [
        " 84 %\n",
        "progress "
       ]
      },
      {
       "output_type": "stream",
       "stream": "stdout",
       "text": [
        " 84 %\n",
        "progress "
       ]
      },
      {
       "output_type": "stream",
       "stream": "stdout",
       "text": [
        " 84 %\n",
        "progress "
       ]
      },
      {
       "output_type": "stream",
       "stream": "stdout",
       "text": [
        " 84 %\n",
        "progress "
       ]
      },
      {
       "output_type": "stream",
       "stream": "stdout",
       "text": [
        " 85 %\n",
        "progress "
       ]
      },
      {
       "output_type": "stream",
       "stream": "stdout",
       "text": [
        " 85 %\n",
        "progress "
       ]
      },
      {
       "output_type": "stream",
       "stream": "stdout",
       "text": [
        " 85 %\n",
        "progress "
       ]
      },
      {
       "output_type": "stream",
       "stream": "stdout",
       "text": [
        " 85 %\n",
        "progress "
       ]
      },
      {
       "output_type": "stream",
       "stream": "stdout",
       "text": [
        " 86 %\n",
        "progress "
       ]
      },
      {
       "output_type": "stream",
       "stream": "stdout",
       "text": [
        " 86 %\n",
        "progress "
       ]
      },
      {
       "output_type": "stream",
       "stream": "stdout",
       "text": [
        " 86 %\n",
        "progress "
       ]
      },
      {
       "output_type": "stream",
       "stream": "stdout",
       "text": [
        " 86 %\n",
        "progress "
       ]
      },
      {
       "output_type": "stream",
       "stream": "stdout",
       "text": [
        " 87 %\n",
        "progress "
       ]
      },
      {
       "output_type": "stream",
       "stream": "stdout",
       "text": [
        " 87 %\n",
        "progress "
       ]
      },
      {
       "output_type": "stream",
       "stream": "stdout",
       "text": [
        " 87 %\n",
        "progress "
       ]
      },
      {
       "output_type": "stream",
       "stream": "stdout",
       "text": [
        " 87 %\n",
        "progress "
       ]
      },
      {
       "output_type": "stream",
       "stream": "stdout",
       "text": [
        " 88 %\n",
        "progress "
       ]
      },
      {
       "output_type": "stream",
       "stream": "stdout",
       "text": [
        " 88 %\n",
        "progress "
       ]
      },
      {
       "output_type": "stream",
       "stream": "stdout",
       "text": [
        " 88 %\n",
        "progress "
       ]
      },
      {
       "output_type": "stream",
       "stream": "stdout",
       "text": [
        " 88 %\n",
        "progress "
       ]
      },
      {
       "output_type": "stream",
       "stream": "stdout",
       "text": [
        " 89 %\n",
        "progress "
       ]
      },
      {
       "output_type": "stream",
       "stream": "stdout",
       "text": [
        " 89 %\n",
        "progress "
       ]
      },
      {
       "output_type": "stream",
       "stream": "stdout",
       "text": [
        " 89 %\n",
        "progress "
       ]
      },
      {
       "output_type": "stream",
       "stream": "stdout",
       "text": [
        " 89 %\n",
        "progress "
       ]
      },
      {
       "output_type": "stream",
       "stream": "stdout",
       "text": [
        " 90 %\n",
        "progress "
       ]
      },
      {
       "output_type": "stream",
       "stream": "stdout",
       "text": [
        " 90 %\n",
        "progress "
       ]
      },
      {
       "output_type": "stream",
       "stream": "stdout",
       "text": [
        " 90 %\n",
        "progress "
       ]
      },
      {
       "output_type": "stream",
       "stream": "stdout",
       "text": [
        " 90 %\n",
        "progress "
       ]
      },
      {
       "output_type": "stream",
       "stream": "stdout",
       "text": [
        " 91 %\n",
        "progress "
       ]
      },
      {
       "output_type": "stream",
       "stream": "stdout",
       "text": [
        " 91 %\n",
        "progress "
       ]
      },
      {
       "output_type": "stream",
       "stream": "stdout",
       "text": [
        " 91 %\n",
        "progress "
       ]
      },
      {
       "output_type": "stream",
       "stream": "stdout",
       "text": [
        " 91 %\n",
        "progress "
       ]
      },
      {
       "output_type": "stream",
       "stream": "stdout",
       "text": [
        " 92 %\n",
        "progress "
       ]
      },
      {
       "output_type": "stream",
       "stream": "stdout",
       "text": [
        " 92 %\n",
        "progress "
       ]
      },
      {
       "output_type": "stream",
       "stream": "stdout",
       "text": [
        " 92 %\n",
        "progress "
       ]
      },
      {
       "output_type": "stream",
       "stream": "stdout",
       "text": [
        " 92 %\n",
        "progress "
       ]
      },
      {
       "output_type": "stream",
       "stream": "stdout",
       "text": [
        " 93 %\n",
        "progress "
       ]
      },
      {
       "output_type": "stream",
       "stream": "stdout",
       "text": [
        " 93 %\n",
        "progress "
       ]
      },
      {
       "output_type": "stream",
       "stream": "stdout",
       "text": [
        " 93 %\n",
        "progress "
       ]
      },
      {
       "output_type": "stream",
       "stream": "stdout",
       "text": [
        " 93 %\n",
        "progress "
       ]
      },
      {
       "output_type": "stream",
       "stream": "stdout",
       "text": [
        " 94 %\n",
        "progress "
       ]
      },
      {
       "output_type": "stream",
       "stream": "stdout",
       "text": [
        " 94 %\n",
        "progress "
       ]
      },
      {
       "output_type": "stream",
       "stream": "stdout",
       "text": [
        " 94 %\n",
        "progress "
       ]
      },
      {
       "output_type": "stream",
       "stream": "stdout",
       "text": [
        " 94 %\n",
        "progress "
       ]
      },
      {
       "output_type": "stream",
       "stream": "stdout",
       "text": [
        " 95 %\n",
        "progress "
       ]
      },
      {
       "output_type": "stream",
       "stream": "stdout",
       "text": [
        " 95 %\n",
        "progress "
       ]
      },
      {
       "output_type": "stream",
       "stream": "stdout",
       "text": [
        " 95 %\n",
        "progress "
       ]
      },
      {
       "output_type": "stream",
       "stream": "stdout",
       "text": [
        " 95 %\n",
        "progress "
       ]
      },
      {
       "output_type": "stream",
       "stream": "stdout",
       "text": [
        " 96 %\n",
        "progress "
       ]
      },
      {
       "output_type": "stream",
       "stream": "stdout",
       "text": [
        " 96 %\n",
        "progress "
       ]
      },
      {
       "output_type": "stream",
       "stream": "stdout",
       "text": [
        " 96 %\n",
        "progress "
       ]
      },
      {
       "output_type": "stream",
       "stream": "stdout",
       "text": [
        " 96 %\n",
        "progress "
       ]
      },
      {
       "output_type": "stream",
       "stream": "stdout",
       "text": [
        " 97 %\n",
        "progress "
       ]
      },
      {
       "output_type": "stream",
       "stream": "stdout",
       "text": [
        " 97 %\n",
        "progress "
       ]
      },
      {
       "output_type": "stream",
       "stream": "stdout",
       "text": [
        " 97 %\n",
        "progress "
       ]
      },
      {
       "output_type": "stream",
       "stream": "stdout",
       "text": [
        " 97 %\n",
        "progress "
       ]
      },
      {
       "output_type": "stream",
       "stream": "stdout",
       "text": [
        " 98 %\n",
        "progress "
       ]
      },
      {
       "output_type": "stream",
       "stream": "stdout",
       "text": [
        " 98 %\n",
        "progress "
       ]
      },
      {
       "output_type": "stream",
       "stream": "stdout",
       "text": [
        " 98 %\n",
        "progress "
       ]
      },
      {
       "output_type": "stream",
       "stream": "stdout",
       "text": [
        " 98 %\n",
        "progress "
       ]
      },
      {
       "output_type": "stream",
       "stream": "stdout",
       "text": [
        " 99 %\n",
        "progress "
       ]
      },
      {
       "output_type": "stream",
       "stream": "stdout",
       "text": [
        " 99 %\n",
        "progress "
       ]
      },
      {
       "output_type": "stream",
       "stream": "stdout",
       "text": [
        " 99 %\n",
        "progress "
       ]
      },
      {
       "output_type": "stream",
       "stream": "stdout",
       "text": [
        " 99 %\n",
        "                     \n",
        "blockCUDA =  (256, 1, 1)\n",
        "gridCUDA =  (256, 1)\n",
        "--- Calculation time "
       ]
      },
      {
       "output_type": "stream",
       "stream": "stdout",
       "text": [
        " 360.532793045  s \n"
       ]
      }
     ],
     "prompt_number": 7
    },
    {
     "cell_type": "heading",
     "level": 3,
     "metadata": {},
     "source": [
      "Testing"
     ]
    },
    {
     "cell_type": "code",
     "collapsed": false,
     "input": [
      "print ' <X> = ', np.trace(instance.Rho_init.dot(instance.X)).real, ' -> ', np.trace(instance.Rho_end.dot(instance.X)).real\n",
      "\n",
      "print ' <P> =  ', np.round(np.trace(instance.Rho_init.dot(instance.P)).real,14) , '  -> ', np.trace(instance.Rho_end.dot(instance.P)).real"
     ],
     "language": "python",
     "metadata": {},
     "outputs": [
      {
       "output_type": "stream",
       "stream": "stdout",
       "text": [
        " <X> =  7.5591861166e-17  ->  "
       ]
      },
      {
       "output_type": "stream",
       "stream": "stdout",
       "text": [
        "-0.016242440665\n",
        " <P> =   3.0   ->  "
       ]
      },
      {
       "output_type": "stream",
       "stream": "stdout",
       "text": [
        "0.0221041636358\n"
       ]
      }
     ],
     "prompt_number": 8
    },
    {
     "cell_type": "heading",
     "level": 2,
     "metadata": {},
     "source": [
      "Plotting"
     ]
    },
    {
     "cell_type": "code",
     "collapsed": false,
     "input": [
      "if os.path.isfile( instance.fileName )==True:\n",
      "    instance.Load_Ehrenfest()"
     ],
     "language": "python",
     "metadata": {},
     "outputs": [],
     "prompt_number": 8
    },
    {
     "cell_type": "code",
     "collapsed": false,
     "input": [
      "print '  '\n",
      "fig, ax = plt.subplots(figsize=(10, 4))\n",
      "\n",
      "print ' normalization = ', np.trace( instance.Rho_end.real ), '    time = ', instance.timeRange[-1]\n",
      "\n",
      "X_range = instance.X_Range()\n",
      "\n",
      "maxProb = np.max( np.diagonal(instance.Rho_init).real/instance.dX )\n",
      "\n",
      "ax.plot( X_range , np.log( np.diagonal(instance.Rho_init).real/instance.dX/maxProb ) , '--' ,label = 'init')\n",
      "ax.plot( X_range , np.log( np.diagonal(instance.Rho_end).real/instance.dX/maxProb ) , '-'  ,label = 'final')\n",
      "\n",
      "ax.grid()\n",
      "ax.set_xlabel('x')\n",
      "ax.set_ylabel('Log Probability')\n",
      "ax.set_ylim(-12,1)\n",
      "#ax.set_xlim(-10,10)\n",
      "ax.legend(bbox_to_anchor=(1.05, 1), loc=2)"
     ],
     "language": "python",
     "metadata": {},
     "outputs": [
      {
       "output_type": "stream",
       "stream": "stdout",
       "text": [
        "  \n",
        " normalization =  1.00000000002     time =  100.0\n"
       ]
      },
      {
       "metadata": {},
       "output_type": "pyout",
       "prompt_number": 9,
       "text": [
        "<matplotlib.legend.Legend at 0x7fccd3d1c810>"
       ]
      },
      {
       "metadata": {},
       "output_type": "display_data",
       "png": "[encoded data removed]",
       "text": [
        "<matplotlib.figure.Figure at 0x7fccd3d80fd0>"
       ]
      }
     ],
     "prompt_number": 9
    },
    {
     "cell_type": "code",
     "collapsed": false,
     "input": [
      "\n",
      "print '  '\n",
      "fig, ax = plt.subplots(figsize=(10, 4))\n",
      "\n",
      "print ' normalization = ', np.trace( instance.Rho_end.real ), '    time = ', instance.timeRange[-1]\n",
      "\n",
      "P_range = instance.P_Range()\n",
      "\n",
      "\n",
      "Rho_init_PRepresent = instance.X_To_P_Basis( instance.Rho_init )\n",
      "Rho_end_PRepresent = instance.X_To_P_Basis( instance.Rho_end )\n",
      "\n",
      "\n",
      "ax.semilogy( P_range , np.diagonal(Rho_init_PRepresent).real/instance.dP , '--' ,label = 'init')\n",
      "ax.semilogy( P_range , np.diagonal(Rho_end_PRepresent).real/instance.dP  , '-'  ,label = 'final')\n",
      "\n",
      "ax.grid()\n",
      "ax.set_xlabel('p')\n",
      "ax.set_ylabel('Probability Log')\n",
      "#ax.set_xlim(-10,10)\n",
      "ax.set_ylim(1e-6,1)\n",
      "\n",
      "ax.legend(bbox_to_anchor=(1.05, 1), loc=2)"
     ],
     "language": "python",
     "metadata": {},
     "outputs": [
      {
       "output_type": "stream",
       "stream": "stdout",
       "text": [
        "  \n",
        " normalization =  1.00000000002     time =  100.0\n"
       ]
      },
      {
       "metadata": {},
       "output_type": "pyout",
       "prompt_number": 10,
       "text": [
        "<matplotlib.legend.Legend at 0x7fccd4564690>"
       ]
      },
      {
       "metadata": {},
       "output_type": "display_data",
       "png": "[encoded data removed]",
       "text": [
        "<matplotlib.figure.Figure at 0x7fccd3d3e250>"
       ]
      }
     ],
     "prompt_number": 10
    },
    {
     "cell_type": "code",
     "collapsed": false,
     "input": [
      "\n",
      "print '  '\n",
      "fig, ax = plt.subplots(figsize=(10, 4))\n",
      "\n",
      "print ' normalization = ', np.trace( instance.Rho_end.real ), '    time = ', instance.timeRange[-1]\n",
      "\n",
      "P_range = instance.P_Range()\n",
      "\n",
      "Rho_init_PRepresent = instance.X_To_P_Basis( instance.Rho_init )\n",
      "Rho_end_PRepresent = instance.X_To_P_Basis( instance.Rho_end )\n",
      "\n",
      "\n",
      "ax.plot( P_range , np.diagonal(Rho_init_PRepresent).real/instance.dP , '--' ,label = 'init')\n",
      "ax.plot( P_range , np.diagonal(Rho_end_PRepresent).real/instance.dP  , '-'  ,label = 'final')\n",
      "\n",
      "ax.grid()\n",
      "ax.set_xlabel('p')\n",
      "ax.set_ylabel('Probability')\n",
      "ax.set_xlim(-10,10)\n",
      "ax.legend(bbox_to_anchor=(1.05, 1), loc=2)"
     ],
     "language": "python",
     "metadata": {},
     "outputs": [
      {
       "output_type": "stream",
       "stream": "stdout",
       "text": [
        "  \n",
        " normalization = "
       ]
      },
      {
       "output_type": "stream",
       "stream": "stdout",
       "text": [
        " 1.00000000002     time =  100.0\n"
       ]
      },
      {
       "metadata": {},
       "output_type": "pyout",
       "prompt_number": 11,
       "text": [
        "<matplotlib.legend.Legend at 0x7fccd4263c10>"
       ]
      },
      {
       "metadata": {},
       "output_type": "display_data",
       "png": "[encoded data removed]",
       "text": [
        "<matplotlib.figure.Figure at 0x7fccd3cd3310>"
       ]
      }
     ],
     "prompt_number": 11
    },
    {
     "cell_type": "code",
     "collapsed": false,
     "input": [
      "fig, ax = plt.subplots(figsize=(10, 4))\n",
      "\n",
      "print ' normalization = ', np.trace( instance.Rho_end.real ),'     time = ',instance.timeRange[-1]\n",
      "\n",
      "Rho_init_XBasis = instance.Rho_init\n",
      "Rho_end_XBasis  = instance.Rho_end\n",
      "\n",
      "ax.plot( instance.X_Range(), np.diagonal(Rho_init_XBasis).real/instance.dX  ,label = 'init')\n",
      "ax.plot( instance.X_Range(),  np.diagonal(Rho_end_XBasis).real/instance.dX  ,label = 'final')\n",
      "\n",
      "ax.grid()\n",
      "ax.set_xlabel('x')\n",
      "ax.set_ylabel('Probability')\n",
      "#ax.set_xlim(-15,20)\n",
      "ax.legend(bbox_to_anchor=(1.05, 1), loc=2)"
     ],
     "language": "python",
     "metadata": {},
     "outputs": [
      {
       "output_type": "stream",
       "stream": "stdout",
       "text": [
        " normalization =  1.00000000002      time =  100.0\n"
       ]
      },
      {
       "metadata": {},
       "output_type": "pyout",
       "prompt_number": 12,
       "text": [
        "<matplotlib.legend.Legend at 0x7fccd42e6810>"
       ]
      },
      {
       "metadata": {},
       "output_type": "display_data",
       "png": "[encoded data removed]",
       "text": [
        "<matplotlib.figure.Figure at 0x7fccd40c9450>"
       ]
      }
     ],
     "prompt_number": 12
    },
    {
     "cell_type": "heading",
     "level": 2,
     "metadata": {},
     "source": [
      "Testing Ehrenfest First Order"
     ]
    },
    {
     "cell_type": "code",
     "collapsed": false,
     "input": [],
     "language": "python",
     "metadata": {},
     "outputs": [],
     "prompt_number": 12
    },
    {
     "cell_type": "code",
     "collapsed": false,
     "input": [
      "def plot_Ehrenfest_dxdt():\n",
      "    time_index_max = 60000\n",
      "\n",
      "    fig, ax = plt.subplots(figsize=(10, 5))\n",
      "\n",
      "    ax.plot( instance.timeRange  ,  np.gradient( instance.X_average, instance.dt).real  , '-', \n",
      "        label = '$\\\\frac{d}{dt} \\\\langle x \\\\rangle $' ,color = 'red', linewidth=2.5)\n",
      "\n",
      "    ax.plot( instance.timeRange ,  instance.P_average  , '--' , \n",
      "        label = '$\\\\frac{1}{m}\\\\langle p \\\\rangle$', linewidth=2.5 )\n",
      "\n",
      "    axis_font = {'fontname':'Times', 'size':'24'}\n",
      "    ax.set_xlabel(r'$t (a.u.)$',**axis_font)\n",
      "\n",
      "    #ax.set_xlim(0,3.5)\n",
      "    #ax.set_ylim(-1,1)\n",
      "    ax.legend(bbox_to_anchor=(0.7, 0.99), loc=2, prop={'size':22})\n",
      "    #ax.set_xlabel('t')\n",
      "    ax.grid();\n",
      "    return fig"
     ],
     "language": "python",
     "metadata": {},
     "outputs": [],
     "prompt_number": 13
    },
    {
     "cell_type": "code",
     "collapsed": false,
     "input": [
      "plot_Ehrenfest_dxdt().savefig(\"Ehrenfest_dxdt.pdf\")"
     ],
     "language": "python",
     "metadata": {},
     "outputs": [
      {
       "output_type": "stream",
       "stream": "stderr",
       "text": [
        "/usr/lib/pymodules/python2.7/matplotlib/font_manager.py:1236: UserWarning: findfont: Font family ['Times'] not found. Falling back to Bitstream Vera Sans\n",
        "  (prop.get_family(), self.defaultFamily[fontext]))\n",
        "/usr/lib/pymodules/python2.7/matplotlib/font_manager.py:1246: UserWarning: findfont: Could not match :family=Bitstream Vera Sans:style=normal:variant=normal:weight=normal:stretch=normal:size=24.0. Returning /usr/share/matplotlib/mpl-data/fonts/ttf/cmb10.ttf\n",
        "  UserWarning)\n"
       ]
      },
      {
       "metadata": {},
       "output_type": "display_data",
       "png": "[encoded data removed]",
       "text": [
        "<matplotlib.figure.Figure at 0x7fccd3d52210>"
       ]
      }
     ],
     "prompt_number": 14
    },
    {
     "cell_type": "code",
     "collapsed": false,
     "input": [
      "fig, ax = plt.subplots(figsize=(10, 4))\n",
      "\n",
      "ax.plot( instance.timeRange ,   np.gradient( instance.P_average, instance.dt).real ,'-' ,\n",
      "        label = '$\\\\frac{d}{dt}p$' ,color = 'r' , linewidth=2.5)\n",
      "\n",
      "ax.plot( instance.timeRange , -instance.dPotentialdX_average - 2*gamma*instance.P_average , '--' ,\n",
      "        label = '$-\\\\frac{d}{dx}V - 2\\gamma p$' ,linewidth=2.)\n",
      "\n",
      "\n",
      "axis_font = {'fontname':'Times', 'size':'24'}\n",
      "ax.set_xlabel(r'$t (a.u.)$',**axis_font)\n",
      "\n",
      "ax.legend(bbox_to_anchor=(1.05, 1), loc=2, prop={'size':22})\n",
      "ax.set_ylim(- 2.5 , 2.5)\n",
      "#ax.set_xlabel('t')\n",
      "ax.set_ylabel(' ')\n",
      "ax.grid();"
     ],
     "language": "python",
     "metadata": {},
     "outputs": [
      {
       "metadata": {},
       "output_type": "display_data",
       "png": "[encoded data removed]",
       "text": [
        "<matplotlib.figure.Figure at 0x7fccd4051910>"
       ]
      }
     ],
     "prompt_number": 15
    },
    {
     "cell_type": "heading",
     "level": 2,
     "metadata": {},
     "source": [
      "Ehrenfest Second Order"
     ]
    },
    {
     "cell_type": "code",
     "collapsed": false,
     "input": [
      "# -4*gamma*instance.P2_average + 2.*gamma*instance.AbsP_average/lambdaBar "
     ],
     "language": "python",
     "metadata": {},
     "outputs": [],
     "prompt_number": 16
    },
    {
     "cell_type": "code",
     "collapsed": false,
     "input": [
      "fig, ax = plt.subplots(figsize=(10, 4))\n",
      "\n",
      "ax.plot( instance.timeRange,  np.gradient( instance.X2_average, instance.dt).real ,'-' ,\n",
      "        label = '$\\\\frac{d}{dt}x^2$' ,color = 'r' , linewidth=2.)\n",
      "\n",
      "ax.plot( instance.timeRange,  \n",
      "        2*instance.XP_average/instance.mass + 0.5*gamma*lambdaBar*instance.Inv_AbsP_average  ,\n",
      "        '--' ,label = '$\\\\frac{xp + px}{m} +  \\\\delta(x,p) $' ,linewidth=2.)\n",
      "\n",
      "\n",
      "axis_font = {'fontname':'Times', 'size':'24'}\n",
      "ax.set_xlabel(r'$t (a.u.)$',**axis_font)\n",
      "\n",
      "ax.legend(bbox_to_anchor=(1.05, 1), loc=2, prop={'size':20} )\n",
      "ax.set_ylim(- 5 , 5)\n",
      "#ax.set_xlim( 0 , 10)\n",
      "#ax.set_xlabel('t')\n",
      "ax.set_ylabel(' ')\n",
      "ax.grid();"
     ],
     "language": "python",
     "metadata": {},
     "outputs": [
      {
       "metadata": {},
       "output_type": "display_data",
       "png": "[encoded data removed]",
       "text": [
        "<matplotlib.figure.Figure at 0x7fccd401c250>"
       ]
      }
     ],
     "prompt_number": 17
    },
    {
     "cell_type": "code",
     "collapsed": false,
     "input": [
      "fig, ax = plt.subplots(figsize=(10, 4))\n",
      "\n",
      "ax.plot( instance.timeRange ,  np.gradient( instance.P2_average, instance.dt).real, \n",
      "        '-' , label = '$ \\\\frac{d}{dt} p^2 $',\n",
      "        color = 'r' , linewidth=2.)\n",
      "\n",
      "\n",
      "ax.plot( instance.timeRange , \n",
      "        -2.*instance.PdPotentialdX_average - 4.*gamma*instance.P2_average + 2*D_Theta\\\n",
      "        + 2*gamma*instance.AbsP_average/lambdaBar \n",
      "        , '--' ,\n",
      "        label = '$-(p\\\\frac{dV}{dx} +\\\\frac{dV}{dx} p )-4 \\gamma p^2 + \\\\alpha(p)$',\n",
      "        linewidth=2.)\n",
      "\n",
      "axis_font = {'fontname':'Times', 'size':'24'}\n",
      "ax.set_xlabel(r'$t (a.u.)$',**axis_font)\n",
      "\n",
      "ax.legend(bbox_to_anchor=(1.05, 1), loc=2, prop={'size':20} )\n",
      "#ax.set_ylim(- 7 , 6)\n",
      "#ax.set_xlabel('t')\n",
      "#ax.set_ylabel(' ')\n",
      "ax.grid();"
     ],
     "language": "python",
     "metadata": {},
     "outputs": [
      {
       "metadata": {},
       "output_type": "display_data",
       "png": "[encoded data removed]",
       "text": [
        "<matplotlib.figure.Figure at 0x7fccd3fe9710>"
       ]
      }
     ],
     "prompt_number": 18
    },
    {
     "cell_type": "code",
     "collapsed": false,
     "input": [
      "fig, ax = plt.subplots(figsize=(10, 4))\n",
      "\n",
      "ax.plot( instance.timeRange ,  2*np.gradient( instance.XP_average, instance.dt).real ,\n",
      "        '-' ,label = '$\\\\frac{d}{dt}(xp+px)$' ,\n",
      "        color = 'r' , linewidth=2.)\n",
      "\n",
      "ax.plot( instance.timeRange , \\\n",
      "         2*instance.P2_average/instance.mass  \\\n",
      "         -2*instance.XdPotentialdX_average        \n",
      "         -4.*gamma*instance.XP_average\\\n",
      "        , '--' , label = '$\\\\frac{2}{m} p^2 - 2 x \\\\frac{d}{dx}V  + \\\\beta(x,p) $' ,linewidth=2.)\n",
      "\n",
      "\n",
      "\n",
      "ax.legend(bbox_to_anchor=(1.05, 1), loc=2, prop={'size':22})\n",
      "#ax.set_ylim(- 12 , 7)\n",
      "ax.set_xlabel('t')\n",
      "ax.set_ylabel(' ')\n",
      "ax.grid();"
     ],
     "language": "python",
     "metadata": {},
     "outputs": [
      {
       "metadata": {},
       "output_type": "display_data",
       "png": "[encoded data removed]",
       "text": [
        "<matplotlib.figure.Figure at 0x7fccd4215810>"
       ]
      }
     ],
     "prompt_number": 19
    },
    {
     "cell_type": "code",
     "collapsed": false,
     "input": [
      "fig, ax = plt.subplots(figsize=(10, 4))\n",
      "\n",
      "ax.plot( instance.X2_average,\n",
      "        '-' ,label = '$<x^2>$' ,linewidth=2.)\n",
      "\n",
      "\n",
      "ax.legend(bbox_to_anchor=(1.05, 1), loc=2)\n",
      "#ax.set_ylim(- 6 , 5)\n",
      "ax.set_xlabel('t')\n",
      "ax.set_ylabel(' ')\n",
      "ax.grid();"
     ],
     "language": "python",
     "metadata": {},
     "outputs": [
      {
       "metadata": {},
       "output_type": "display_data",
       "png": "[encoded data removed]",
       "text": [
        "<matplotlib.figure.Figure at 0x7fccd3d8ebd0>"
       ]
      }
     ],
     "prompt_number": 20
    },
    {
     "cell_type": "code",
     "collapsed": false,
     "input": [
      "fig, ax = plt.subplots(figsize=(10, 4))\n",
      "\n",
      "ax.plot( instance.P2_average,\n",
      "        '-' ,label = '$<p^2>$' ,linewidth=2.)\n",
      "\n",
      "\n",
      "ax.legend(bbox_to_anchor=(1.05, 1), loc=2)\n",
      "#ax.set_ylim(- 6 , 5)\n",
      "ax.set_xlabel('t')\n",
      "ax.set_ylabel(' ')\n",
      "ax.grid();"
     ],
     "language": "python",
     "metadata": {},
     "outputs": [
      {
       "metadata": {},
       "output_type": "display_data",
       "png": "[encoded data removed]",
       "text": [
        "<matplotlib.figure.Figure at 0x7fccd3976310>"
       ]
      }
     ],
     "prompt_number": 21
    },
    {
     "cell_type": "code",
     "collapsed": false,
     "input": [
      "fig, ax = plt.subplots(figsize=(10, 4))\n",
      " \n",
      "sx = instance.X2_average - instance.X_average**2\n",
      "sp = instance.P2_average - instance.P_average**2\n",
      "\n",
      "ax.plot( np.sqrt(sx*sp) , '-' ,label = '$\\\\sigma_x^2 \\\\sigma^2_p$' ,linewidth=2.)\n",
      "\n",
      "\n",
      "ax.legend(bbox_to_anchor=(1.05, 1), loc=2)\n",
      "#ax.set_ylim(0 , 2)\n",
      "ax.set_xlabel('t')\n",
      "ax.set_ylabel(' ')\n",
      "ax.grid();"
     ],
     "language": "python",
     "metadata": {},
     "outputs": [
      {
       "metadata": {},
       "output_type": "display_data",
       "png": "[encoded data removed]",
       "text": [
        "<matplotlib.figure.Figure at 0x7fccd4409490>"
       ]
      }
     ],
     "prompt_number": 22
    },
    {
     "cell_type": "raw",
     "metadata": {},
     "source": [
      "Energy"
     ]
    },
    {
     "cell_type": "code",
     "collapsed": false,
     "input": [
      "2*np.pi*instance.omega"
     ],
     "language": "python",
     "metadata": {},
     "outputs": [
      {
       "metadata": {},
       "output_type": "pyout",
       "prompt_number": 28,
       "text": [
        "6.283185307179586"
       ]
      }
     ],
     "prompt_number": 28
    },
    {
     "cell_type": "code",
     "collapsed": false,
     "input": [
      "fig, ax = plt.subplots(figsize=(10, 5))\n",
      "\n",
      "print 'last energy = ', (instance.P2_average/(2*instance.mass) + 0.5*instance.omega**2*instance.X2_average)[-1]\n",
      "\n",
      "ax.plot( instance.timeRange , \\\n",
      "         instance.P2_average/(2*instance.mass) + 0.5*instance.omega**2*instance.X2_average\\\n",
      "        , '-' , label = '$ Energy $' ,linewidth=2.)\n",
      "\n",
      "ax.set_xlabel('t')\n",
      "\n",
      "ax.grid();\n",
      "\n",
      "ax.legend(bbox_to_anchor=(1.05, 1), loc=2)"
     ],
     "language": "python",
     "metadata": {},
     "outputs": [
      {
       "output_type": "stream",
       "stream": "stdout",
       "text": [
        "last energy =  2.24425513568\n"
       ]
      },
      {
       "metadata": {},
       "output_type": "pyout",
       "prompt_number": 27,
       "text": [
        "<matplotlib.legend.Legend at 0x7fccd3692bd0>"
       ]
      },
      {
       "metadata": {},
       "output_type": "display_data",
       "png": "[encoded data removed]",
       "text": [
        "<matplotlib.figure.Figure at 0x7fccd3976410>"
       ]
      }
     ],
     "prompt_number": 27
    },
    {
     "cell_type": "heading",
     "level": 3,
     "metadata": {},
     "source": [
      "Purity"
     ]
    },
    {
     "cell_type": "code",
     "collapsed": false,
     "input": [
      "def Purity(n):\n",
      "    Rho = instance.LoadRho(instance.fileName, n ) \n",
      "    return np.trace( Rho.dot(Rho) ).real"
     ],
     "language": "python",
     "metadata": {},
     "outputs": [],
     "prompt_number": 24
    },
    {
     "cell_type": "code",
     "collapsed": false,
     "input": [
      "purity_list = []\n",
      "for n in range( 0, instance.timeSteps, instance.skipFrames ):\n",
      "    purity_list.append( Purity(n)  )\n",
      "\n",
      "purity_list      = np.array(purity_list )\n",
      "purity_timeLine  = instance.dt*np.array( range( 0, instance.timeSteps, instance.skipFrames ) )"
     ],
     "language": "python",
     "metadata": {},
     "outputs": [],
     "prompt_number": 26
    },
    {
     "cell_type": "code",
     "collapsed": false,
     "input": [
      "fig, ax = plt.subplots(figsize=(10, 5))\n",
      "ax.plot( purity_timeLine, purity_list  ,label='Purity' )\n",
      "ax.set_xlabel('t')\n",
      "ax.set_ylabel('Purity')\n",
      "ax.grid();\n",
      "ax.legend(bbox_to_anchor=(1.05, 1), loc=2)"
     ],
     "language": "python",
     "metadata": {},
     "outputs": [
      {
       "metadata": {},
       "output_type": "pyout",
       "prompt_number": 27,
       "text": [
        "<matplotlib.legend.Legend at 0x7fe88cd8e650>"
       ]
      },
      {
       "metadata": {},
       "output_type": "display_data",
       "png": "[encoded data removed]",
       "text": [
        "<matplotlib.figure.Figure at 0x7fe89067f210>"
       ]
      }
     ],
     "prompt_number": 27
    },
    {
     "cell_type": "heading",
     "level": 2,
     "metadata": {},
     "source": [
      "Classical integration"
     ]
    },
    {
     "cell_type": "code",
     "collapsed": false,
     "input": [
      "def dVdx(x):\n",
      "    return instance.dPotential(0,x)"
     ],
     "language": "python",
     "metadata": {},
     "outputs": [],
     "prompt_number": 29
    },
    {
     "cell_type": "code",
     "collapsed": false,
     "input": [
      "trajectory = instance.SymplecticPropagator(\n",
      "    instance.mass, gamma, instance.dt, instance.timeSteps, dVdx,\n",
      "    np.array([ instance.x_init, instance.p_init  ]) ).T"
     ],
     "language": "python",
     "metadata": {},
     "outputs": [],
     "prompt_number": 30
    },
    {
     "cell_type": "code",
     "collapsed": false,
     "input": [
      "print 'final time = ' , instance.timeRange[-1]\n",
      "\n",
      "p_min = -instance.dP *instance.gridDIM/2.\n",
      "p_max =  instance.dP *instance.gridDIM/2.     \n",
      "x_min = -instance.X_amplitude\n",
      "x_max =  instance.X_amplitude \n",
      "x_range = instance.X_Range()\n",
      "p_range = instance.P_Range()\n",
      "X = x_range[np.newaxis,:]\n",
      "P = p_range[:,np.newaxis]\n",
      "H = P**2/(2*instance.mass) + instance.Potential(0,X)\n",
      "\n",
      "\n",
      "fig, ax = plt.subplots(figsize=(10, 10))\n",
      "\n",
      "ax.plot( instance.X_average ,  instance.P_average , '--' , label = 'quantum(<X>,<P>)', linewidth=2 )\n",
      "\n",
      "ax.plot( trajectory[0] ,  trajectory[1] , '-' , color='r', \n",
      "        label = 'classical (X,P)', linewidth=1 )\n",
      "\n",
      "#ax.plot (LC_Xaverage, LC_Paverage, 'g', linewidth=2.5, label=\"Leget-Caldeira\" )\n",
      "ax.contour(H,  np.arange(0, 4, 0.5 ),origin='lower',extent=[x_min,x_max,p_min,p_max],\n",
      "               linewidths=0.25,colors='k')\n",
      "\n",
      "ax.set_xlabel('X')\n",
      "ax.set_ylabel('P')\n",
      "ax.set_aspect(1.)\n",
      "\n",
      "ax.set_xlim(-3.,3.)\n",
      "ax.set_ylim(-3.,3.)\n",
      "ax.grid();\n",
      "\n",
      "ax.legend(bbox_to_anchor=(1.05, 1), loc=2)\n"
     ],
     "language": "python",
     "metadata": {},
     "outputs": [
      {
       "output_type": "stream",
       "stream": "stdout",
       "text": [
        "final time =  100.0\n"
       ]
      },
      {
       "metadata": {},
       "output_type": "pyout",
       "prompt_number": 31,
       "text": [
        "<matplotlib.legend.Legend at 0x7fccd37ddc10>"
       ]
      },
      {
       "metadata": {},
       "output_type": "display_data",
       "png": "[encoded data removed]",
       "text": [
        "<matplotlib.figure.Figure at 0x7fccd446b810>"
       ]
      }
     ],
     "prompt_number": 31
    },
    {
     "cell_type": "heading",
     "level": 2,
     "metadata": {},
     "source": [
      "Wigner function plots"
     ]
    },
    {
     "cell_type": "code",
     "collapsed": false,
     "input": [
      "def PlotWigner(W2,messages=True,saveFigure=False):\n",
      "    global_min = -0.01\n",
      "    global_max =  0.04\n",
      "    \n",
      "    zero_position =  abs( global_min) / (abs( global_max) + abs(global_min)) \n",
      "    wigner_cdict = {'red' \t: \t((0., 0., 0.),\n",
      "                                (zero_position, 1., 1.), \n",
      "                                (1., 1., 1.)),\n",
      "                        'green' :\t((0., 0., 0.),\n",
      "                                (zero_position, 1., 1.),\n",
      "                                (1., 0., 0.)),\n",
      "                        'blue'\t:\t((0., 1., 1.),\n",
      "                                (zero_position, 1., 1.),\n",
      "                                (1., 0., 0.)) }\n",
      "    \n",
      "    wigner_cmap = matplotlib.colors.LinearSegmentedColormap('wigner_colormap', wigner_cdict, 512)\n",
      "    #wigner_cmap = LinearSegmentedColormap('wigner_colormap', wigner_cdict, 512)\n",
      "    \n",
      "    plt.clf()\n",
      "    fig, ax = plt.subplots(figsize=(6, 5))\n",
      "    \n",
      "    dp = instance.dP\n",
      "    dx = instance.dX\n",
      "    \n",
      "    p_min = -instance.P_amplitude\n",
      "    p_max =  instance.P_amplitude - dp   \n",
      "        \n",
      "    x_min = -instance.X_amplitude\n",
      "    x_max =  instance.X_amplitude - instance.dX\n",
      "    \n",
      "    \n",
      "    norm = np.sum(W2)*dp*dx\n",
      "    \n",
      "    W2 /= norm\n",
      "    \n",
      "    if messages == True:\n",
      "        print ' max W = ', np.max(W2.real)\n",
      "        print ' min W = ', np.min(W2.real)\n",
      "\n",
      "    cax = ax.imshow(  W2.real  ,\n",
      "           extent = [ x_min/np.sqrt(2) , x_max/np.sqrt(2) , p_min/np.sqrt(2) , p_max/np.sqrt(2) ], \n",
      "           vmin= global_min, vmax=global_max,\n",
      "           origin='lower',interpolation='none',cmap=wigner_cmap)\n",
      "    \n",
      "    ax.contour(H,  np.arange( instance.omega/2. , 10, instance.omega  ),origin='lower',extent=[x_min,x_max,p_min,p_max],\n",
      "               linewidths=0.25,colors='k')\n",
      "    \n",
      "    ax.set_xlim( -5,5 )\n",
      "    ax.set_ylim( -5,5 )\n",
      "    \n",
      "    ax.grid('on')\n",
      "    \n",
      "    ax.set_aspect(1)\n",
      "    \n",
      "    cbar = fig.colorbar( cax , ticks=[-0.3, -0.2,-0.1, 0, 0.1, 0.2 , 0.3])\n",
      "\n",
      "    if saveFigure != False:\n",
      "        fig.savefig( saveFigure  )\n",
      "    \n",
      "    return fig"
     ],
     "language": "python",
     "metadata": {},
     "outputs": [],
     "prompt_number": 48
    },
    {
     "cell_type": "code",
     "collapsed": false,
     "input": [
      "W0 = instance.DensityMatrix_To_Wigner( instance.LoadRho(instance.fileName,0) )"
     ],
     "language": "python",
     "metadata": {},
     "outputs": [],
     "prompt_number": 41
    },
    {
     "cell_type": "code",
     "collapsed": false,
     "input": [
      "fig0 = PlotWigner(W0);"
     ],
     "language": "python",
     "metadata": {},
     "outputs": [
      {
       "output_type": "stream",
       "stream": "stdout",
       "text": [
        " max W =  0.155012364898\n",
        " min W =  -2.15687047046e-16\n"
       ]
      },
      {
       "metadata": {},
       "output_type": "display_data",
       "text": [
        "<matplotlib.figure.Figure at 0x7fccd401e5d0>"
       ]
      },
      {
       "metadata": {},
       "output_type": "display_data",
       "png": "[encoded data removed]",
       "text": [
        "<matplotlib.figure.Figure at 0x7fccd1dadd50>"
       ]
      }
     ],
     "prompt_number": 49
    },
    {
     "cell_type": "code",
     "collapsed": false,
     "input": [
      "W10000 = instance.DensityMatrix_To_Wigner( instance.LoadRho(instance.fileName, instance.timeSteps ) )"
     ],
     "language": "python",
     "metadata": {},
     "outputs": [],
     "prompt_number": 43
    },
    {
     "cell_type": "code",
     "collapsed": false,
     "input": [
      "PlotWigner(W10000);"
     ],
     "language": "python",
     "metadata": {},
     "outputs": [
      {
       "output_type": "stream",
       "stream": "stdout",
       "text": [
        " max W =  0.0400177097357\n",
        " min W =  -0.000180146953474\n"
       ]
      },
      {
       "metadata": {},
       "output_type": "display_data",
       "text": [
        "<matplotlib.figure.Figure at 0x7fccd44145d0>"
       ]
      },
      {
       "metadata": {},
       "output_type": "display_data",
       "png": "[encoded data removed]",
       "text": [
        "<matplotlib.figure.Figure at 0x7fccd1cf9d10>"
       ]
      }
     ],
     "prompt_number": 50
    },
    {
     "cell_type": "heading",
     "level": 2,
     "metadata": {},
     "source": [
      "Projections"
     ]
    },
    {
     "cell_type": "code",
     "collapsed": false,
     "input": [
      "nMax=60\n",
      "\n",
      "projectionsOdd = []\n",
      "\n",
      "for n in range(1,nMax,2):\n",
      "    RhoHO = instance.Rho_HarmonicOscillator(n , instance.omega , 0 , 0 )\n",
      "    Rho   = instance.LoadRho(instance.fileName, instance.timeSteps)\n",
      "    projectionsOdd.append( np.trace( Rho.dot(RhoHO) )  )\n",
      "    \n",
      "projectionsOdd = np.array(projectionsOdd)"
     ],
     "language": "python",
     "metadata": {},
     "outputs": [],
     "prompt_number": 37
    },
    {
     "cell_type": "code",
     "collapsed": false,
     "input": [
      "projectionsEven = []\n",
      "\n",
      "for n in range(0,nMax,2):\n",
      "    RhoHO = instance.Rho_HarmonicOscillator(n , instance.omega, 0 , 0 )\n",
      "    Rho   = instance.LoadRho(instance.fileName, instance.timeSteps)\n",
      "    projectionsEven.append( np.trace( Rho.dot(RhoHO) )  )\n",
      "    \n",
      "projectionsEven = np.array(projectionsEven)"
     ],
     "language": "python",
     "metadata": {},
     "outputs": [],
     "prompt_number": 38
    },
    {
     "cell_type": "code",
     "collapsed": false,
     "input": [
      "plt.semilogy(  range(1,nMax,2), projectionsOdd.real   ,'.', label='Odd states')\n",
      "plt.semilogy(  range(0,nMax,2), projectionsEven.real   ,'r.',label='Even states')\n",
      "plt.legend(bbox_to_anchor=(1.05, 1), loc=2)\n",
      "plt.xlabel('n')"
     ],
     "language": "python",
     "metadata": {},
     "outputs": [
      {
       "metadata": {},
       "output_type": "pyout",
       "prompt_number": 38,
       "text": [
        "<matplotlib.text.Text at 0x7fe88c2dde90>"
       ]
      },
      {
       "metadata": {},
       "output_type": "display_data",
       "png": "[encoded data removed]",
       "text": [
        "<matplotlib.figure.Figure at 0x7fe88c3a0450>"
       ]
      }
     ],
     "prompt_number": 38
    },
    {
     "cell_type": "code",
     "collapsed": false,
     "input": [
      "RhoSum = np.zeros( (instance.gridDIM,instance.gridDIM) , dtype=np.complex128)\n",
      "\n",
      "for n in range(0,nMax/2):\n",
      "    RhoSum += projectionsEven[n]*instance.Rho_HarmonicOscillator(2*n , instance.omega , 0 , 0 )\n",
      "    \n",
      "\n",
      "for n in range(1,nMax/2):\n",
      "    RhoSum += projectionsOdd[n]*instance.Rho_HarmonicOscillator(2*n+1 , instance.omega , 0 , 0 )    "
     ],
     "language": "python",
     "metadata": {},
     "outputs": [],
     "prompt_number": 39
    },
    {
     "cell_type": "code",
     "collapsed": false,
     "input": [
      "WSum = instance.DensityMatrix_To_Wigner(  RhoSum )"
     ],
     "language": "python",
     "metadata": {},
     "outputs": [],
     "prompt_number": 40
    },
    {
     "cell_type": "code",
     "collapsed": false,
     "input": [
      "PlotWigner(WSum);"
     ],
     "language": "python",
     "metadata": {},
     "outputs": [
      {
       "output_type": "stream",
       "stream": "stdout",
       "text": [
        " max W =  0.114228086925\n",
        " min W =  -1.07939090191e-07\n"
       ]
      },
      {
       "metadata": {},
       "output_type": "display_data",
       "text": [
        "<matplotlib.figure.Figure at 0x7fe88cddd9d0>"
       ]
      },
      {
       "metadata": {},
       "output_type": "display_data",
       "png": "[encoded data removed]",
       "text": [
        "<matplotlib.figure.Figure at 0x7fe88c36d810>"
       ]
      }
     ],
     "prompt_number": 41
    },
    {
     "cell_type": "heading",
     "level": 2,
     "metadata": {},
     "source": [
      "Make movie"
     ]
    },
    {
     "cell_type": "code",
     "collapsed": false,
     "input": [
      "# avconv -r 10  -i fig%05d.png -b:v 1000k test.mp4\n",
      "\"\"\"\n",
      "m=0\n",
      "for n in range(0,instance.timeSteps,instance.skipFrames):\n",
      "    print ' n = ',n\n",
      "    m+=1\n",
      "    W = instance.DensityMatrix_To_Wigner( instance.LoadRho(instance.fileName,n) )\n",
      "    PlotWigner( W , messages=False, saveFigure='/home/rcabrera/DATA/Rho2D/Ohmic/movie1/fig%05d'%m );\n",
      "\"\"\""
     ],
     "language": "python",
     "metadata": {},
     "outputs": [
      {
       "metadata": {},
       "output_type": "pyout",
       "prompt_number": 42,
       "text": [
        "\"\\nm=0\\nfor n in range(0,instance.timeSteps,instance.skipFrames):\\n    print ' n = ',n\\n    m+=1\\n    W = instance.DensityMatrix_To_Wigner( instance.LoadRho(instance.fileName,n) )\\n    PlotWigner( W , messages=False, saveFigure='/home/rcabrera/DATA/Rho2D/Ohmic/movie1/fig%05d'%m );\\n\""
       ]
      }
     ],
     "prompt_number": 42
    },
    {
     "cell_type": "code",
     "collapsed": false,
     "input": [],
     "language": "python",
     "metadata": {},
     "outputs": [],
     "prompt_number": 42
    }
   ],
   "metadata": {}
  }
 ]
}