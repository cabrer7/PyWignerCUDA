{
 "cells": [
  {
   "cell_type": "markdown",
   "metadata": {},
   "source": [
    "# $x^2$ potential"
   ]
  },
  {
   "cell_type": "code",
   "execution_count": 1,
   "metadata": {
    "collapsed": false
   },
   "outputs": [],
   "source": [
    "import pickle\n",
    "import numpy as np\n",
    "import pycuda.gpuarray as gpuarray\n",
    "from scipy.special import hyp1f1\n",
    "import scipy.fftpack as fftpack\n",
    "import pylab as plt\n",
    "import time\n",
    "\n",
    "#-------------------------------------------------------------------------------------\n",
    "from pywignercuda_path import SetPyWignerCUDA_Path\n",
    "SetPyWignerCUDA_Path()\n",
    "from GPU_Wigner2D_GPitaevskii import *\n"
   ]
  },
  {
   "cell_type": "code",
   "execution_count": 2,
   "metadata": {
    "collapsed": true
   },
   "outputs": [],
   "source": [
    "%matplotlib inline"
   ]
  },
  {
   "cell_type": "markdown",
   "metadata": {},
   "source": [
    "## Settings"
   ]
  },
  {
   "cell_type": "code",
   "execution_count": 3,
   "metadata": {
    "collapsed": false
   },
   "outputs": [],
   "source": [
    "class frame( GPU_Wigner2D_GPitaevskii ):\n",
    "    def __init__ (self,V_Source, V_Drain, gaussianSeparation):\n",
    "        X_gridDIM = 2*512\n",
    "        P_gridDIM =   512\n",
    "        \n",
    "        X_amplitude  = 32\n",
    "        P_amplitude  = 18\n",
    "        \n",
    "        hBar = 1.\n",
    "        dt    = 0.005\n",
    "        \n",
    "        timeSteps =       5000\n",
    "        skipFrames =       100\n",
    "        \n",
    "        mass = 1.      \n",
    "        \n",
    "        # Diffusion parameter \n",
    "        D_Theta  = 0.00\n",
    "        D_Lambda = 0.00   \n",
    "        \n",
    "        # Damping parameters\n",
    "        self.dampingFunction = 'CaldeiraLeggett'\n",
    "        gammaDamping  = 0.0 #8*10**(-6)\n",
    "        epsilon       = 0.5;\n",
    "        self.fp_Damping_String = ' p*p/sqrt( p*p + {epsilon}  ) '.format( epsilon=epsilon )\n",
    "        \n",
    "        #\n",
    "        self.xScale = 2.16074     #  with this scale the x axis reads in micro meters\n",
    "        \n",
    "        self.energyScale = 0.5    #  with this scale the energy reads in KHz\n",
    "        \n",
    "        self.timeScale = 2        #  with this scale the time reads in mili seconds\n",
    "        \n",
    "        # Potential and derivative of potential in computational units\n",
    "        X2_constant = 0.075            # Enveloping Harmonic oscillator\n",
    "        gaussianSeparation = 0.75\n",
    "        V_Drain =  3.\n",
    "        V_Source = 2.\n",
    "        k = 5. # 1/width of Gaussian potentials\n",
    "        \n",
    "        self.GPitaevskiiCoeff = 1.\n",
    "        \n",
    "        kinematicString  = '0.5*p*p/{mass}'.format(mass=mass)\n",
    "        \n",
    "        potentialString  = '(-0.1+{0}*pow(x,2) + {V_Source}*exp(-{k}*(x+{d})*(x+{d})))*Heaviside(-x-{d})'.format(\n",
    "                        X2_constant, d=gaussianSeparation, V_Source=V_Source, k=k)\n",
    "        \n",
    "        potentialString += ' +( -0.1+4*(x+{d})+{V_Source} )*Heaviside(x+{d})   '.format(\n",
    "                        d=gaussianSeparation, V_Source=V_Source, k=k)\n",
    "        \n",
    "        dPotentialString = \\\n",
    "        '2*{0}*x-2*{4}*{2}*(x+{1})*exp(-{4}*(x+{1})*(x+{1}))-2*{4}*{3}*(x-{1})*exp(-{4}*(x-{1})*(x-{1}))'.format(\n",
    "                        X2_constant,gaussianSeparation,V_Source,V_Drain,k)\n",
    "        \n",
    "        self.SetTimeTrack( dt, timeSteps, skipFrames,\n",
    "        fileName='/home/rcabrera/DATA/Wigner2D_GPitaevskii/ATransistor_Ground_'+str(V_Source)+'_'+str(V_Drain)+'.hdf5' )\n",
    "        \n",
    "        GPU_Wigner2D_GPitaevskii.__init__(self,\n",
    "            X_gridDIM,P_gridDIM,X_amplitude,P_amplitude,\n",
    "            hBar,mass,D_Theta,D_Lambda,gammaDamping,potentialString,dPotentialString,kinematicString)\n",
    "\n",
    "    def Set_Ground_State(self):\n",
    "        Ground_Dir = '/home/rcabrera/DATA/Wigner2D_GPitaevskii/'\n",
    "\n",
    "        Ground_hdf5 = h5py.File( Ground_Dir+'ATransistor_Ground_2.0.hdf5' ,'r')\n",
    "\n",
    "        self.W_init = Ground_hdf5['W_0'][...]+0j\n",
    "        \n",
    "        self.Potential_GroundState = Ground_hdf5['/Potential'][...]\n",
    "        \n",
    "    def Set_Initial_Condition_HarmonicOscillator(self):\n",
    "        \"\"\"\n",
    "        Sets   self.PsiInitial_XP with the Wigner function of the Harmonic oscillator  \n",
    "        \"\"\"\n",
    "        self.x_init = -2.5\n",
    "        self.p_init = 0.\n",
    "        omega = 1\n",
    "        n = 0    \n",
    "        self.W_init = self.Wigner_HarmonicOscillator(n, omega, self.x_init, self.p_init)\n",
    "        \n",
    "    def Set_Initial_Condition_HalfHarmonicOscillator(self):\n",
    "        \"\"\"\n",
    "        Sets   self.PsiInitial_XP with the Wigner function of the Harmonic oscillator  \n",
    "        \"\"\"\n",
    "        self.x_init = -1.5\n",
    "        self.p_init = 0.\n",
    "        omega = 0.5\n",
    "        n = 0    \n",
    "        self.W_init = self.Wigner_Half_HarmonicOscillator(n, omega, self.x_init, self.p_init)\n",
    "\n",
    "        \n",
    "    def Set_Initial_Condition_Boltzmann_HalfHarmonicOscillator(self):\n",
    "        \"\"\"\n",
    "        Sets   self.PsiInitial_XP with the Wigner function of the Harmonic oscillator  \n",
    "        \"\"\"\n",
    "        self.x_init = -1.5\n",
    "        self.p_init = 0.\n",
    "        omega = 1.5\n",
    "        nMax = 51    \n",
    "  \n",
    "        kT = 20 \n",
    "        \n",
    "        energies = np.array( map(  lambda n: omega*( 0.5 + n  ),  range(1, nMax+1 ,2)   ) )\n",
    "  \n",
    "        probabilities = np.exp( -energies/kT )\n",
    "        \n",
    "        probabilities = probabilities/np.sum(probabilities)\n",
    "  \n",
    "        #print 'prob ',probabilities\n",
    "        \n",
    "        self.W_init = probabilities[0]*self.Wigner_Half_HarmonicOscillator(1, omega, self.x_init, self.p_init)\n",
    "        \n",
    "        #print ' range ', range( 1 , (nMax-1)/2 +1 )\n",
    "        \n",
    "        for n in range( 1 , (nMax-1)/2 +1 ):\n",
    "                self.W_init += probabilities[n]*self.Wigner_Half_HarmonicOscillator( 2*n+1 , omega, self.x_init, self.p_init)\n",
    "        "
   ]
  },
  {
   "cell_type": "markdown",
   "metadata": {},
   "source": [
    "## Run"
   ]
  },
  {
   "cell_type": "code",
   "execution_count": 4,
   "metadata": {
    "collapsed": false
   },
   "outputs": [
    {
     "name": "stdout",
     "output_type": "stream",
     "text": [
      "\t\t\t\t\t\t\t\n",
      " \tWigner2D propagator with damping\t\n",
      "\t\t\t\t\t\t\t\n"
     ]
    }
   ],
   "source": [
    "chemicalPotential = 50 #computational units\n",
    "\n",
    "V_Source = 60 - chemicalPotential\n",
    "V_Drain = 70 - chemicalPotential\n",
    "\n",
    "gaussianSeparation = 1.\n",
    "\n",
    "\n",
    "instance = frame( V_Source, V_Drain, gaussianSeparation)\n",
    "print '\t\t\t\t\t\t\t'\n",
    "print ' \tWigner2D propagator with damping\t'\n",
    "print '\t\t\t\t\t\t\t'\n",
    "#print ' energy scale = ', instance.energyScale\n",
    "\n",
    "instance.Set_Ground_State ()\n",
    "\n",
    "#instance.Set_Initial_Condition_HarmonicOscillator()\n",
    "\n",
    "#instance.Set_Initial_Condition_HalfHarmonicOscillator()\n",
    "\n",
    "#instance.Set_Initial_Condition_Boltzmann_HalfHarmonicOscillator()"
   ]
  },
  {
   "cell_type": "code",
   "execution_count": null,
   "metadata": {
    "collapsed": false
   },
   "outputs": [
    {
     "name": "stderr",
     "output_type": "stream",
     "text": [
      "/usr/lib/pymodules/python2.7/matplotlib/font_manager.py:1236: UserWarning: findfont: Font family ['Times'] not found. Falling back to Bitstream Vera Sans\n",
      "  (prop.get_family(), self.defaultFamily[fontext]))\n",
      "/usr/lib/pymodules/python2.7/matplotlib/font_manager.py:1246: UserWarning: findfont: Could not match :family=Bitstream Vera Sans:style=normal:variant=normal:weight=normal:stretch=normal:size=24.0. Returning /usr/share/matplotlib/mpl-data/fonts/ttf/cmb10.ttf\n",
      "  UserWarning)\n"
     ]
    },
    {
     "data": {
      "image/png": "[encoded data removed]",
      "text/plain": [
       "<matplotlib.figure.Figure at 0x7f31bb94d650>"
      ]
     },
     "metadata": {},
     "output_type": "display_data"
    }
   ],
   "source": [
    "#print 'Potential'\n",
    "fig, ax = plt.subplots(figsize=(15, 5))\n",
    "\n",
    "ax.plot( instance.X_range* instance.xScale , \n",
    "        instance.Potential(0,instance.X_range)* instance.energyScale ,'-' , color='r')\n",
    "\n",
    "ax.plot( instance.X_range* instance.xScale , \n",
    "        instance.Potential_GroundState* instance.energyScale ,'--' , color='b')\n",
    "\n",
    "ax.set_xlim( -instance.X_amplitude*instance.xScale/4 , instance.X_amplitude*instance.xScale/4 )\n",
    "ax.set_ylim(-0.1 , 3 )\n",
    "ax.set_aspect(4)\n",
    "axis_font = {'fontname':'Times', 'size':'24'}\n",
    "ax.set_xlabel('$ x [\\\\mu m]$', **axis_font  )\n",
    "ax.set_ylabel('$ V\\, [Hz]$', **axis_font  )\n",
    "ax.grid('on')"
   ]
  },
  {
   "cell_type": "code",
   "execution_count": null,
   "metadata": {
    "collapsed": false
   },
   "outputs": [
    {
     "name": "stdout",
     "output_type": "stream",
     "text": [
      " X_gridDIM =  1024    P_gridDIM =  512\n",
      " dx =  0.0625  dp =  0.0703125\n",
      " dLambda =  0.0981747704247  dTheta =  0.174532925199\n",
      "  \n",
      "         GPU memory Total        5.24945068359 GB\n",
      "         GPU memory Free         4.94869613647 GB\n",
      "Initial W Norm =  (1+0j)\n",
      "         GPU memory Free  post gpu loading  4.89400863647 GB\n",
      " ------------------------------------------------------------------------------- \n",
      "     Split Operator Propagator  GPU with damping                                 \n",
      " ------------------------------------------------------------------------------- \n",
      " progress  0 %\n",
      " progress  1 %\n",
      " progress  3 %\n",
      " progress  5 %\n",
      " progress  7 %\n",
      " progress  9 %\n",
      " progress  11 %\n",
      " progress  13 %\n",
      " progress  15 %\n",
      " progress  17 %\n",
      " progress  19 %\n",
      " progress  21 %\n",
      " progress  23 %\n",
      " progress  25 %\n",
      " progress  27 %\n",
      " progress  29 %\n",
      " progress  31 %\n",
      " progress  33 %\n",
      " progress  35 %\n",
      " progress  37 %\n",
      " progress  39 %\n",
      " progress  41 %\n",
      " progress  43 %\n",
      " progress  45 %\n",
      " progress  47 %\n",
      " progress  49 %\n",
      " progress  51 %\n",
      " progress  53 %\n",
      " progress  55 %\n",
      " progress  57 %\n",
      " progress  59 %\n",
      " progress  61 %\n",
      " progress  63 %\n",
      " progress  65 %\n",
      " progress  67 %\n",
      " progress  69 %\n",
      " progress  71 %\n",
      " progress  73 %\n",
      " progress  75 %\n",
      " progress  77 %\n",
      " progress  79 %\n",
      " progress  81 %\n"
     ]
    }
   ],
   "source": [
    "init_time = time.time()\n",
    "\n",
    "W = instance.Run()\n",
    "\n",
    "print 'computation time = ', (time.time() - init_time)/60. , 'min'"
   ]
  },
  {
   "cell_type": "markdown",
   "metadata": {},
   "source": [
    "## Plots"
   ]
  },
  {
   "cell_type": "code",
   "execution_count": null,
   "metadata": {
    "collapsed": false
   },
   "outputs": [],
   "source": [
    "plot_init = instance.PlotWignerFrame( instance.W_init , ((-12.,5) ,(-8,8))  , (-0.01,0.3) , (0,60,1) )\n"
   ]
  },
  {
   "cell_type": "code",
   "execution_count": null,
   "metadata": {
    "collapsed": false
   },
   "outputs": [],
   "source": [
    "plot_end = instance.PlotWignerFrame( instance.W_end , ((-12.,5) ,(-8,8))  , (-0.01,0.3) , (0,60,1))"
   ]
  },
  {
   "cell_type": "code",
   "execution_count": null,
   "metadata": {
    "collapsed": false
   },
   "outputs": [],
   "source": [
    "def PlotMarginal_x():\n",
    "    fig, ax = plt.subplots(figsize=(15, 5))\n",
    "\n",
    "    #\n",
    "    W_end  = fftpack.fftshift( instance.W_end.real )\n",
    "    W_init = fftpack.fftshift( instance.W_init.real  )\n",
    "\n",
    "    dx    = instance.dX\n",
    "    dp    = instance.dP\n",
    "    p_min = -instance.P_amplitude\n",
    "    p_max =  instance.P_amplitude - dp   \n",
    "\n",
    "    x_min = -instance.X_amplitude\n",
    "    x_max =  instance.X_amplitude - dx   \n",
    "\n",
    "    energy = instance.Hamiltonian_average[0] + 0.5*instance.GPitaevskiiCoeff*instance.ProbabilitySquare_average[0]\n",
    "\n",
    "    marginal_x_init =  instance.WignerMarginal_Probability_x(W_init)*(1./instance.xScale)\n",
    "    marginal_x_end  =  instance.WignerMarginal_Probability_x(W_end)*(1./instance.xScale)\n",
    "\n",
    "    # Potential\n",
    "    ax.fill_between( instance.X_range* instance.xScale ,\n",
    "                    instance.Potential(0,instance.X_range)* instance.energyScale , color='gray' )\n",
    "\n",
    "    # Marginal x\n",
    "    marginal_x_scale = energy/np.max(marginal_x_init)*instance.energyScale\n",
    "\n",
    "    ax.plot(instance.X_range*instance.xScale , marginal_x_init*marginal_x_scale,\n",
    "            '-',label='initial', linewidth=2.)\n",
    "\n",
    "    ax.plot(instance.X_range*instance.xScale , marginal_x_end*marginal_x_scale,\n",
    "            label='final', linewidth=2., color = 'red') \n",
    "\n",
    "    ax.set_xlim( -instance.X_amplitude*instance.xScale/4 , instance.X_amplitude*instance.xScale/4 )\n",
    "    ax.set_ylim(-0.1 , 3 )\n",
    "    ax.set_aspect(4)\n",
    "    axis_font = {'fontname':'Times', 'size':'24'}\n",
    "    ax.set_xlabel('$ x [\\\\mu m]$', **axis_font  )\n",
    "    ax.set_ylabel('$ V\\, [Hz]$', **axis_font  )\n",
    "    ax.grid('on')\n",
    "\n",
    "    \n",
    "def PlotMarginal_p():\n",
    "    fig, ax = plt.subplots(figsize=(15, 5))\n",
    "\n",
    "    #\n",
    "    W_end  = fftpack.fftshift( instance.W_end.real )\n",
    "    W_init = fftpack.fftshift( instance.W_init.real  )\n",
    "\n",
    "    dx    = instance.dX\n",
    "    dp    = instance.dP\n",
    "    p_min = -instance.P_amplitude\n",
    "    p_max =  instance.P_amplitude - dp   \n",
    "\n",
    "    x_min = -instance.X_amplitude\n",
    "    x_max =  instance.X_amplitude - dx   \n",
    "\n",
    "    energy = instance.Hamiltonian_average[0] + 0.5*instance.GPitaevskiiCoeff*instance.ProbabilitySquare_average[0]\n",
    "\n",
    "    marginal_p_init =  instance.WignerMarginal_Probability_p(W_init)\n",
    "    marginal_p_end  =  instance.WignerMarginal_Probability_p(W_end)\n",
    "\n",
    "    # Marginal p\n",
    "    #marginal_x_scale = energy/np.max(marginal_x_init)*instance.energyScale\n",
    "\n",
    "    ax.plot(instance.P_range , marginal_p_init,\n",
    "            '-',label='initial', linewidth=2.)\n",
    "\n",
    "    ax.plot(instance.P_range , marginal_p_end,\n",
    "            label='final', linewidth=2., color = 'red') \n",
    "\n",
    "    ax.set_xlim( -instance.P_amplitude/4 , instance.P_amplitude/4 )\n",
    "    ax.set_ylim(-0.1 , 1 )\n",
    "    ax.set_aspect(4)\n",
    "    axis_font = {'fontname':'Times', 'size':'24'}\n",
    "    ax.set_xlabel('$ p $', **axis_font  )\n",
    "    ax.set_ylabel('$ Probability $', **axis_font  )\n",
    "    ax.grid('on')"
   ]
  },
  {
   "cell_type": "code",
   "execution_count": null,
   "metadata": {
    "collapsed": false
   },
   "outputs": [],
   "source": [
    "PlotMarginal_x()\n",
    "PlotMarginal_p()"
   ]
  },
  {
   "cell_type": "markdown",
   "metadata": {},
   "source": [
    "## First Order Ehrenfest"
   ]
  },
  {
   "cell_type": "code",
   "execution_count": null,
   "metadata": {
    "collapsed": false
   },
   "outputs": [],
   "source": [
    "fig, ax = plt.subplots(figsize=(10, 4))\n",
    "\n",
    "ax.plot( instance.timeRange ,  np.gradient(instance.X_average, instance.dt) , '-',\n",
    "        label = '$\\\\frac{d}{dt} \\\\langle x \\\\rangle $' ,color = 'red', linewidth=1.)\n",
    "\n",
    "ax.plot( instance.timeRange ,  instance.P_average/instance.mass , '--' ,\n",
    "        label='$\\\\frac{1}{m}\\\\langle p \\\\rangle$', linewidth=1. )\n",
    "\n",
    "\n",
    "#ax.set_xlim(0,3.5)\n",
    "#ax.set_ylim(-1.,1.2)\n",
    "ax.legend(bbox_to_anchor=(1.05, 1), loc=2, prop={'size':22})\n",
    "ax.set_xlabel('t')\n",
    "ax.grid();"
   ]
  },
  {
   "cell_type": "code",
   "execution_count": null,
   "metadata": {
    "collapsed": false
   },
   "outputs": [],
   "source": [
    "fig, ax = plt.subplots(figsize=(10, 4))\n",
    "\n",
    "ax.plot( instance.timeRange ,  np.gradient( instance.P_average , instance.dt) ,'-' , \n",
    "        label =  '$\\\\frac{d}{dt} \\\\langle p \\\\rangle $' ,color = 'r' , linewidth=1.)\n",
    "\n",
    "ax.plot( instance.timeRange , \n",
    "        - instance.dPotentialdX_average    , '--' ,\n",
    "        label = '$ -\\\\langle \\\\frac{d}{dx}V  \\\\rangle $' ,linewidth=1.)\n",
    "\n",
    "\n",
    "ax.legend(bbox_to_anchor=(1.05, 1), loc=2, prop={'size':22})\n",
    "#ax.set_ylim(-0.8,0.8)\n",
    "ax.set_xlabel('t')\n",
    "#ax.set_ylabel(' ')\n",
    "ax.grid();"
   ]
  },
  {
   "cell_type": "markdown",
   "metadata": {},
   "source": [
    "### Second Order Ehrenfest Theorems"
   ]
  },
  {
   "cell_type": "code",
   "execution_count": null,
   "metadata": {
    "collapsed": false
   },
   "outputs": [],
   "source": [
    "fig, ax = plt.subplots(figsize=(10, 4))\n",
    "\n",
    "ax.plot( instance.timeRange , np.gradient( instance.X2_average , instance.dt) , '-',\n",
    "        label='$\\\\frac{d}{dt}  \\\\langle x^2  \\\\rangle$' , color = 'red', linewidth=1.)\n",
    "\n",
    "ax.plot( instance.timeRange , \\\n",
    "        2*instance.XP_average/instance.mass, '--',label = '$\\\\frac{2}{m}  \\\\langle xp  \\\\rangle$',linewidth=1. )\n",
    "\n",
    "\n",
    "#ax.set_xlim(0,3.5)\n",
    "#ax.set_ylim(-1.,1.2)\n",
    "ax.legend(bbox_to_anchor=(1.05, 1), loc=2, prop={'size':24})\n",
    "ax.set_xlabel('t')\n",
    "ax.grid();"
   ]
  },
  {
   "cell_type": "code",
   "execution_count": null,
   "metadata": {
    "collapsed": false
   },
   "outputs": [],
   "source": [
    "fig, ax = plt.subplots(figsize=(12, 6))\n",
    "\n",
    "ax.plot( instance.timeRange , np.gradient( instance.P2_average , instance.dt)  , '-',\n",
    "        label = '$\\\\frac{d}{dt}  \\\\langle p^2  \\\\rangle$',\n",
    "        color = 'red', linewidth=1.)\n",
    "\n",
    "ax.plot( instance.timeRange , \\\n",
    "        -2*instance.PdPotentialdX_average\n",
    "        , '--',\n",
    "        label = '$-  \\\\langle p\\\\frac{dV}{dx} +\\\\frac{dV}{dx} p \\\\rangle  $',\n",
    "        linewidth=1. )\n",
    "\n",
    "\n",
    "\n",
    "#ax.set_xlim(-0.2,26)\n",
    "#ax.set_ylim(-1.,1.2)\n",
    "ax.legend(bbox_to_anchor=(1.05, 1), loc=5, prop={'size':22})\n",
    "ax.set_xlabel('t')\n",
    "ax.grid();"
   ]
  },
  {
   "cell_type": "code",
   "execution_count": null,
   "metadata": {
    "collapsed": false
   },
   "outputs": [],
   "source": [
    "fig, ax = plt.subplots(figsize=(12, 6))\n",
    "\n",
    "ax.plot( instance.timeRange ,  2*np.gradient( instance.XP_average , instance.dt) ,\n",
    "        '-' ,label = '$\\\\frac{d}{dt} \\\\langle xp+px  \\\\rangle$' , color = 'r' , linewidth=1. )\n",
    "\n",
    "ax.plot( instance.timeRange , \\\n",
    "          2*instance.P2_average/instance.mass  \\\n",
    "         -2*instance.XdPotentialdX_average   \n",
    "         , '--' , \n",
    "         label = '$\\\\frac{2}{m}  \\\\langle p^2  \\\\rangle - 2  \\\\langle x \\\\frac{d}{dx}V  \\\\rangle   $'\n",
    "        ,linewidth=1.)\n",
    "\n",
    "\n",
    "ax.legend(bbox_to_anchor=(1.05, 1), loc=5, prop={'size':22})\n",
    "#ax.set_ylim(- 12 , 7)\n",
    "ax.set_xlabel('t')\n",
    "ax.set_ylabel(' ')\n",
    "ax.grid();"
   ]
  },
  {
   "cell_type": "code",
   "execution_count": null,
   "metadata": {
    "collapsed": false
   },
   "outputs": [],
   "source": [
    "fig, ax = plt.subplots(figsize=(12, 6))\n",
    "\n",
    "ax.plot( instance.timeRange*instance.timeScale ,\n",
    "np.sqrt(instance.X2_average - instance.X_average**2)*np.sqrt(instance.P2_average - instance.P_average**2)\n",
    "        , '-' , label = '$\\\\Delta x \\\\Delta p$' , linewidth=1.)\n",
    "\n",
    "\n",
    "ax.legend(bbox_to_anchor=(1.05, 1), loc=5, prop={'size':22})\n",
    "#ax.set_ylim(-50, 0)\n",
    "ax.set_xlabel('t [ms]')\n",
    "#ax.set_xlim(0,41000)\n",
    "ax.set_ylabel(' ')\n",
    "ax.grid();\n"
   ]
  },
  {
   "cell_type": "code",
   "execution_count": null,
   "metadata": {
    "collapsed": false
   },
   "outputs": [],
   "source": [
    "fig, ax = plt.subplots(figsize=(12, 7))\n",
    "\n",
    "energyList = instance.Hamiltonian_average + 0.5*instance.GPitaevskiiCoeff*instance.ProbabilitySquare_average\n",
    "\n",
    "ax.plot( instance.timeRange* instance.timeScale , \n",
    " instance.energyScale*energyList , '-' , label = '$Total Energy$' , linewidth=1.)\n",
    "\n",
    "\n",
    "ax.legend(bbox_to_anchor=(1.05, 1), loc=2, prop={'size':22})\n",
    "ax.set_ylim( 0 , 0.7)\n",
    "ax.set_xlabel('t [ms]')\n",
    "#ax.set_ylabel(' ')\n",
    "ax.set_ylabel('$ Energy \\, [Hz]$', **axis_font  )\n",
    "ax.grid();"
   ]
  },
  {
   "cell_type": "code",
   "execution_count": null,
   "metadata": {
    "collapsed": false
   },
   "outputs": [],
   "source": [
    "fig, ax = plt.subplots(figsize=(12, 6))\n",
    "\n",
    "ax.plot( instance.timeRange , \\\n",
    "          np.sqrt(instance.P2_average - instance.P_average**2) \\\n",
    "         , '-' , label = '$p^2 $',linewidth=2.)\n",
    "\n",
    "#ax.plot( instance.timeRange , instance.X3_average - 2*gamma*instance.P_average , '-' ,\n",
    "#        label = '$-F-2\\gamma <P>$' ,linewidth=2.)\n",
    "\n",
    "ax.legend(bbox_to_anchor=(1.05, 1), loc=2, prop={'size':22})\n",
    "#ax.set_ylim(- 12 , 7)\n",
    "ax.set_xlabel('t')\n",
    "ax.set_ylabel(' ')\n",
    "ax.grid();"
   ]
  },
  {
   "cell_type": "code",
   "execution_count": null,
   "metadata": {
    "collapsed": false
   },
   "outputs": [],
   "source": [
    "fig, ax = plt.subplots(figsize=(12, 6))\n",
    "\n",
    "ax.plot( instance.timeRange*instance.timeScale , instance.X_average \\\n",
    "         , '-' , label = '$x$',linewidth=2.)\n",
    "\n",
    "#ax.plot( instance.timeRange , instance.X3_average - 2*gamma*instance.P_average , '-' ,\n",
    "#        label = '$-F-2\\gamma <P>$' ,linewidth=2.)\n",
    "\n",
    "ax.legend(bbox_to_anchor=(1.05, 1), loc=2, prop={'size':22})\n",
    "#ax.set_ylim(- 12 , 7)\n",
    "ax.set_xlabel('t [ms]')\n",
    "ax.set_ylabel(' ')\n",
    "ax.grid();"
   ]
  },
  {
   "cell_type": "markdown",
   "metadata": {},
   "source": [
    "## Loading saved File"
   ]
  },
  {
   "cell_type": "code",
   "execution_count": null,
   "metadata": {
    "collapsed": false
   },
   "outputs": [],
   "source": [
    "W = instance.WignerFunctionFromFile(instance.skipFrames)"
   ]
  },
  {
   "cell_type": "code",
   "execution_count": null,
   "metadata": {
    "collapsed": false
   },
   "outputs": [],
   "source": [
    "instance.PlotWignerFrame( W.real , plotRange=((-15.,15) ,(-10,10))  \n",
    "                         , global_color=(-0.1,0.3), energy_Levels=(0,60,1));"
   ]
  },
  {
   "cell_type": "code",
   "execution_count": null,
   "metadata": {
    "collapsed": false
   },
   "outputs": [],
   "source": [
    "def RightProbability( nFrame, xIndexTruncation):\n",
    "    W = instance.WignerFunctionFromFile(nFrame).real\n",
    "    prob_x = fftpack.fftshift(  instance.WignerMarginal_Probability_x(W)  ) \n",
    "    #return prob_x\n",
    "    return np.sum( prob_x[xIndexTruncation:] )*instance.dX"
   ]
  },
  {
   "cell_type": "code",
   "execution_count": null,
   "metadata": {
    "collapsed": false
   },
   "outputs": [],
   "source": [
    "fig, ax = plt.subplots(figsize=(10, 10))\n",
    "\n",
    "\n",
    "timeLine = instance.dt*np.arange(0,instance.timeSteps+instance.skipFrames,instance.skipFrames)\n",
    "\n",
    "prob = map( lambda n: RightProbability(n,512),  range(0,instance.timeSteps+instance.skipFrames,instance.skipFrames) )\n",
    "\n",
    "\n",
    "ax.plot(  prob )\n",
    "ax.set_ylim(0,1.5)\n",
    "ax.set_xlabel('time')\n",
    "ax.set_ylabel('Right Probability')\n",
    "ax.set_aspect(10)"
   ]
  },
  {
   "cell_type": "code",
   "execution_count": null,
   "metadata": {
    "collapsed": false
   },
   "outputs": [],
   "source": []
  }
 ],
 "metadata": {
  "kernelspec": {
   "display_name": "Python 2",
   "language": "python",
   "name": "python2"
  },
  "language_info": {
   "codemirror_mode": {
    "name": "ipython",
    "version": 2
   },
   "file_extension": ".py",
   "mimetype": "text/x-python",
   "name": "python",
   "nbconvert_exporter": "python",
   "pygments_lexer": "ipython2",
   "version": "2.7.6"
  }
 },
 "nbformat": 4,
 "nbformat_minor": 0
}
