{
 "metadata": {
  "kernelspec": {
   "display_name": "Python 2",
   "language": "python",
   "name": "python2"
  },
  "language_info": {
   "codemirror_mode": {
    "name": "ipython",
    "version": 2
   },
   "file_extension": ".py",
   "mimetype": "text/x-python",
   "name": "python",
   "nbconvert_exporter": "python",
   "pygments_lexer": "ipython2",
   "version": "2.7.6"
  },
  "name": "",
  "signature": "sha256:a7cfd7ab7d8387266db2d44e176959c763ddd9bd0789b3871d8f8dcbc8027de7"
 },
 "nbformat": 3,
 "nbformat_minor": 0,
 "worksheets": [
  {
   "cells": [
    {
     "cell_type": "code",
     "collapsed": false,
     "input": [
      "import numpy as np\n",
      "import scipy.fftpack as fftpack\n",
      "import pylab as plt\n",
      "import matplotlib as matplotlib\n",
      "\n",
      "import pycuda.gpuarray as gpuarray\n",
      "\n",
      "#-------------------------------------------------------------------------------------\n",
      "from pywignercuda_path import SetPyWignerCUDA_Path\n",
      "SetPyWignerCUDA_Path()\n",
      "from GPU_WignerDiracKvN2D_4x4 import *"
     ],
     "language": "python",
     "metadata": {},
     "outputs": [],
     "prompt_number": 1
    },
    {
     "cell_type": "code",
     "collapsed": false,
     "input": [
      "%matplotlib inline"
     ],
     "language": "python",
     "metadata": {},
     "outputs": [],
     "prompt_number": 2
    },
    {
     "cell_type": "code",
     "collapsed": false,
     "input": [
      "class Klein(GPU_WignerDiracKvN2D_4x4):\n",
      "    def __init__ (self):\n",
      "    #....................Defining the geometry..................................... \n",
      "        X_gridDIM = 512\n",
      "        P_gridDIM = 512\n",
      "        \n",
      "        X_amplitude = 20  \n",
      "        P_amplitude = 15   \n",
      "\n",
      "        \n",
      "        timeSteps  =  1000\n",
      "        dt = 0.01 #dX/c\n",
      "        \n",
      "        skipFrames =   20\n",
      "\n",
      "        #...................Defining the kinematic-dynamical constants.................\n",
      "        \n",
      "        mass = 0.511\n",
      "        c = 1.\n",
      "        \n",
      "        #self.dt = dX/self.c\n",
      "        #...................Defining the potential and initial state parameters........\n",
      "        V0 = 0.\n",
      "        w  = 0.\n",
      "        \n",
      "        #.........................ODM damping ........................................\n",
      "        self.gammaDamping = 0.0\n",
      "        \n",
      "        #............................................................................\n",
      "        \n",
      "        self.D_Theta      = 0.0\n",
      "        self.D_Lambda     = 0.0\n",
      "                \n",
      "        #self.pX = 9.5\n",
      "        self.Potential_0_String = ' 0.*x'\n",
      "        self.Potential_1_String = ' 0.*x'\n",
      "        self.Potential_2_String = ' 0.*x'\n",
      "        self.Potential_3_String = ' 0.*x'\n",
      "\n",
      "        \n",
      "        #.............................................................................\n",
      "        GPU_WignerDiracKvN2D_4x4.__init__(self,\n",
      "            X_gridDIM, P_gridDIM, X_amplitude, P_amplitude, mass, c, dt,\n",
      "            timeSteps,skipFrames,frameSaveMode='Density',antiParticleNorm = True, computeEnergy=True)\n",
      "        #.............................................................................\n",
      "        \n",
      "          \n",
      "    def  Set_Initial_State  (self) :\n",
      " \n",
      "        #..................Defining the output directory/file ........................\n",
      "\n",
      "        self.fileName = '/home/rcabrera/DATA/DiracKvN2D_4x4/Free.hdf5'\n",
      "        \n",
      "        self.W_init = np.empty([4,4,instance.P_gridDIM,instance.X_gridDIM],dtype = np.complex128)\n",
      "        \n",
      "        init_x  = -5\n",
      "        self.pX = 2.2\n",
      "        s = 1.\n",
      "        \n",
      "        print ' v init = ', self.c * self.pX/np.sqrt( (self.mass*self.c)**2 + self.pX**2  )  #/ np.sqrt(   (self.mass*self,c)**2  + (self.pX)**2 )\n",
      "        #\n",
      "        \n",
      "        psiL1 = self.GaussianSpinor_ParticleUp(  init_x , self.pX , s, self.X - 0.5*self.Theta )       \n",
      "         \n",
      "        psiR1 = self.GaussianSpinor_ParticleUp(  init_x , self.pX , s, self.X + 0.5*self.Theta )         \n",
      "\n",
      "        #\n",
      "        \n",
      "        for i in range(4):\n",
      "            for j in range(4):\n",
      "                self.W_init[i,j][:,:] = psiL1[i]*psiR1[j].conj()\n",
      "        \n",
      "        # To XP       \n",
      "        self.Fourier_4X4_Theta_To_P(self.W_init)\n",
      "        \n",
      "        instance.FilterElectrons( self.W_init , 1)\n",
      "        \n",
      "        norm = self.Wigner_4x4_Norm(self.W_init)\n",
      "        self.W_init *= 1./ norm\n",
      "        "
     ],
     "language": "python",
     "metadata": {},
     "outputs": [],
     "prompt_number": 3
    },
    {
     "cell_type": "code",
     "collapsed": false,
     "input": [
      "instance = Klein()"
     ],
     "language": "python",
     "metadata": {},
     "outputs": [
      {
       "output_type": "stream",
       "stream": "stdout",
       "text": [
        "  D_1_Potential_0 =  0 + 0.*x\n"
       ]
      }
     ],
     "prompt_number": 4
    },
    {
     "cell_type": "code",
     "collapsed": false,
     "input": [
      "(instance.mass)"
     ],
     "language": "python",
     "metadata": {},
     "outputs": [
      {
       "metadata": {},
       "output_type": "pyout",
       "prompt_number": 5,
       "text": [
        "0.511"
       ]
      }
     ],
     "prompt_number": 5
    },
    {
     "cell_type": "code",
     "collapsed": false,
     "input": [
      "instance.Set_Initial_State()"
     ],
     "language": "python",
     "metadata": {},
     "outputs": [
      {
       "output_type": "stream",
       "stream": "stdout",
       "text": [
        " v init =  0.974069327847\n"
       ]
      }
     ],
     "prompt_number": 6
    },
    {
     "cell_type": "code",
     "collapsed": false,
     "input": [
      "\n",
      "#instance.Set_Initial_State()\n",
      "\n",
      "instance.Run ()"
     ],
     "language": "python",
     "metadata": {},
     "outputs": [
      {
       "output_type": "stream",
       "stream": "stdout",
       "text": [
        "----------------------------------------------\n",
        " Relativistic Wigner-Dirac Propagator:  x-Px  \n",
        "----------------------------------------------\n",
        " dt      =  0.01\n",
        " dx      =  0.078125\n",
        " dp      =  0.05859375\n",
        " dLambda =  0.157079632679\n",
        "            \n",
        "         GPU memory Total       "
       ]
      },
      {
       "output_type": "stream",
       "stream": "stdout",
       "text": [
        " 5.17700195312 GB\n",
        "         GPU memory Free         4.93902587891 GB\n",
        " progress  0 %\n",
        " cuda grid =   ( (512, 1, 1)  ,  (512, 1, 1) )\n",
        " progress "
       ]
      },
      {
       "output_type": "stream",
       "stream": "stdout",
       "text": [
        " 1 %\n",
        " progress "
       ]
      },
      {
       "output_type": "stream",
       "stream": "stdout",
       "text": [
        " 3 %\n",
        " progress "
       ]
      },
      {
       "output_type": "stream",
       "stream": "stdout",
       "text": [
        " 5 %\n",
        " progress "
       ]
      },
      {
       "output_type": "stream",
       "stream": "stdout",
       "text": [
        " 7 %\n",
        " progress "
       ]
      },
      {
       "output_type": "stream",
       "stream": "stdout",
       "text": [
        " 9 %\n",
        " progress "
       ]
      },
      {
       "output_type": "stream",
       "stream": "stdout",
       "text": [
        " 11 %\n",
        " progress "
       ]
      },
      {
       "output_type": "stream",
       "stream": "stdout",
       "text": [
        " 13 %\n",
        " progress "
       ]
      },
      {
       "output_type": "stream",
       "stream": "stdout",
       "text": [
        " 15 %\n",
        " progress "
       ]
      },
      {
       "output_type": "stream",
       "stream": "stdout",
       "text": [
        " 17 %\n",
        " progress "
       ]
      },
      {
       "output_type": "stream",
       "stream": "stdout",
       "text": [
        " 19 %\n",
        " progress "
       ]
      },
      {
       "output_type": "stream",
       "stream": "stdout",
       "text": [
        " 21 %\n",
        " progress "
       ]
      },
      {
       "output_type": "stream",
       "stream": "stdout",
       "text": [
        " 23 %\n",
        " progress "
       ]
      },
      {
       "output_type": "stream",
       "stream": "stdout",
       "text": [
        " 25 %\n",
        " progress "
       ]
      },
      {
       "output_type": "stream",
       "stream": "stdout",
       "text": [
        " 27 %\n",
        " progress "
       ]
      },
      {
       "output_type": "stream",
       "stream": "stdout",
       "text": [
        " 29 %\n",
        " progress "
       ]
      },
      {
       "output_type": "stream",
       "stream": "stdout",
       "text": [
        " 31 %\n",
        " progress "
       ]
      },
      {
       "output_type": "stream",
       "stream": "stdout",
       "text": [
        " 33 %\n",
        " progress "
       ]
      },
      {
       "output_type": "stream",
       "stream": "stdout",
       "text": [
        " 35 %\n",
        " progress "
       ]
      },
      {
       "output_type": "stream",
       "stream": "stdout",
       "text": [
        " 37 %\n",
        " progress "
       ]
      },
      {
       "output_type": "stream",
       "stream": "stdout",
       "text": [
        " 39 %\n",
        " progress "
       ]
      },
      {
       "output_type": "stream",
       "stream": "stdout",
       "text": [
        " 41 %\n",
        " progress "
       ]
      },
      {
       "output_type": "stream",
       "stream": "stdout",
       "text": [
        " 43 %\n",
        " progress "
       ]
      },
      {
       "output_type": "stream",
       "stream": "stdout",
       "text": [
        " 45 %\n",
        " progress "
       ]
      },
      {
       "output_type": "stream",
       "stream": "stdout",
       "text": [
        " 47 %\n",
        " progress "
       ]
      },
      {
       "output_type": "stream",
       "stream": "stdout",
       "text": [
        " 49 %\n",
        " progress "
       ]
      },
      {
       "output_type": "stream",
       "stream": "stdout",
       "text": [
        " 51 %\n",
        " progress "
       ]
      },
      {
       "output_type": "stream",
       "stream": "stdout",
       "text": [
        " 53 %\n",
        " progress "
       ]
      },
      {
       "output_type": "stream",
       "stream": "stdout",
       "text": [
        " 55 %\n",
        " progress "
       ]
      },
      {
       "output_type": "stream",
       "stream": "stdout",
       "text": [
        " 57 %\n",
        " progress "
       ]
      },
      {
       "output_type": "stream",
       "stream": "stdout",
       "text": [
        " 59 %\n",
        " progress "
       ]
      },
      {
       "output_type": "stream",
       "stream": "stdout",
       "text": [
        " 61 %\n",
        " progress "
       ]
      },
      {
       "output_type": "stream",
       "stream": "stdout",
       "text": [
        " 63 %\n",
        " progress "
       ]
      },
      {
       "output_type": "stream",
       "stream": "stdout",
       "text": [
        " 65 %\n",
        " progress "
       ]
      },
      {
       "output_type": "stream",
       "stream": "stdout",
       "text": [
        " 67 %\n",
        " progress "
       ]
      },
      {
       "output_type": "stream",
       "stream": "stdout",
       "text": [
        " 69 %\n",
        " progress "
       ]
      },
      {
       "output_type": "stream",
       "stream": "stdout",
       "text": [
        " 71 %\n",
        " progress "
       ]
      },
      {
       "output_type": "stream",
       "stream": "stdout",
       "text": [
        " 73 %\n",
        " progress "
       ]
      },
      {
       "output_type": "stream",
       "stream": "stdout",
       "text": [
        " 75 %\n",
        " progress "
       ]
      },
      {
       "output_type": "stream",
       "stream": "stdout",
       "text": [
        " 77 %\n",
        " progress "
       ]
      },
      {
       "output_type": "stream",
       "stream": "stdout",
       "text": [
        " 79 %\n",
        " progress "
       ]
      },
      {
       "output_type": "stream",
       "stream": "stdout",
       "text": [
        " 81 %\n",
        " progress "
       ]
      },
      {
       "output_type": "stream",
       "stream": "stdout",
       "text": [
        " 83 %\n",
        " progress "
       ]
      },
      {
       "output_type": "stream",
       "stream": "stdout",
       "text": [
        " 85 %\n",
        " progress "
       ]
      },
      {
       "output_type": "stream",
       "stream": "stdout",
       "text": [
        " 87 %\n",
        " progress "
       ]
      },
      {
       "output_type": "stream",
       "stream": "stdout",
       "text": [
        " 89 %\n",
        " progress "
       ]
      },
      {
       "output_type": "stream",
       "stream": "stdout",
       "text": [
        " 91 %\n",
        " progress "
       ]
      },
      {
       "output_type": "stream",
       "stream": "stdout",
       "text": [
        " 93 %\n",
        " progress "
       ]
      },
      {
       "output_type": "stream",
       "stream": "stdout",
       "text": [
        " 95 %\n",
        " progress "
       ]
      },
      {
       "output_type": "stream",
       "stream": "stdout",
       "text": [
        " 97 %\n",
        " progress "
       ]
      },
      {
       "output_type": "stream",
       "stream": "stdout",
       "text": [
        " 99 %\n",
        " computation time =  99.052904129  seconds\n"
       ]
      }
     ],
     "prompt_number": 7
    },
    {
     "cell_type": "code",
     "collapsed": false,
     "input": [
      "def PlotWigner(W):\n",
      "    \n",
      "    W0 = fftpack.fftshift(instance.Wigner_4X4__SpinTrace( W ).real)\n",
      "    \n",
      "    x_min = -instance.X_amplitude\n",
      "    x_max = instance.X_amplitude - instance.dX\n",
      "    \n",
      "    p_min = -instance.P_amplitude\n",
      "    p_max = instance.P_amplitude - instance.dP\n",
      "    \n",
      "    global_max = 0.31          #  Maximum value used to select the color range\n",
      "    global_min = -0.27        # \n",
      "\n",
      "    print 'min = ', np.min( W0 ), ' max = ', np.max( W0 )\n",
      "    print 'normalization = ', np.sum( W0 )*instance.dX*instance.dP\n",
      "\n",
      "    zero_position =  abs( global_min) / (abs( global_max) + abs(global_min)) \n",
      "    wigner_cdict = {'red' \t: \t((0., 0., 0.),\n",
      "\t\t\t\t\t\t\t(zero_position, 1., 1.), \n",
      "\t\t\t\t\t\t\t(1., 1., 1.)),\n",
      "\t\t\t\t\t'green' :\t((0., 0., 0.),\n",
      "\t\t\t\t\t\t\t(zero_position, 1., 1.),\n",
      "\t\t\t\t\t\t\t(1., 0., 0.)),\n",
      "\t\t\t\t\t'blue'\t:\t((0., 1., 1.),\n",
      "\t\t\t\t\t\t\t(zero_position, 1., 1.),\n",
      "\t\t\t\t\t\t\t(1., 0., 0.)) }\n",
      "    wigner_cmap = matplotlib.colors.LinearSegmentedColormap('wigner_colormap', wigner_cdict, 256)\n",
      "    #wigner_cmap = plt.colors.LinearSegmentedColormap('wigner_colormap', wigner_cdict, 256)\n",
      "    \n",
      "\n",
      "    fig, ax = plt.subplots(figsize=(20, 7))\n",
      "\n",
      "    \n",
      "        \n",
      "    cax = ax.imshow( W0 ,origin='lower',interpolation='nearest',\\\n",
      "    extent=[x_min, x_max, p_min, p_max], vmin= global_min, vmax=global_max, cmap=wigner_cmap)\n",
      "\n",
      "    ax.set_xlabel('x')\n",
      "    ax.set_ylabel('p')\n",
      "    #ax.set_xlim((x_min,x_max))\n",
      "    #ax.set_ylim((-5 , p_max/3.5))\n",
      "    #ax.set_ylim((-16,16))    \n",
      "    ax.set_aspect(1)\n",
      "    ax.grid('on')"
     ],
     "language": "python",
     "metadata": {},
     "outputs": [],
     "prompt_number": 8
    },
    {
     "cell_type": "code",
     "collapsed": false,
     "input": [
      "def PlotMarginal_P(instance):\n",
      "    \n",
      "    W_0 = fftpack.fftshift( instance.Wigner_4X4__SpinTrace(instance.W_init).real )\n",
      "        \n",
      "    print ' norm =  ', np.sum(W_0).real*instance.dX*instance.dP\n",
      "    \n",
      "    fig, ax = plt.subplots(figsize=(10, 5))\n",
      "\n",
      "    prob_P = np.sum(W_0,axis=1)*instance.dX\n",
      "    ax.plot(instance.P_range, prob_P , label = 'init')\n",
      "    \n",
      "    W_0 = fftpack.fftshift(  instance.Wigner_4X4__SpinTrace(instance.W_end).real )\n",
      "    \n",
      "    print ' norm =  ', np.sum(W_0).real*instance.dX*instance.dP\n",
      "    \n",
      "    prob_P = np.sum(W_0,axis=1)*instance.dX\n",
      "    ax.plot(instance.P_range, prob_P , label = 'final')\n",
      "    \n",
      "    ax.set_xlim(-18,18)\n",
      "    ax.set_xlabel('p')\n",
      "    ax.set_ylabel('Prob')\n",
      "    ax.grid('on')\n",
      "    \n",
      "    ax.legend(bbox_to_anchor=(0.75, 0.5), loc=2, prop={'size':22})\n",
      "    \n",
      "def PlotMarginal_X(instance):\n",
      "    \n",
      "    W_0 = fftpack.fftshift( instance.Wigner_4X4__SpinTrace(instance.W_init).real )\n",
      "        \n",
      "    \n",
      "    fig, ax = plt.subplots(figsize=(10, 5))\n",
      "\n",
      "    prob_X = np.sum(W_0,axis=0)*instance.dP\n",
      "    ax.plot(instance.X_range, prob_X , label = 'init')\n",
      "    \n",
      "    W_0 = fftpack.fftshift( instance.Wigner_4X4__SpinTrace(instance.W_end).real )\n",
      "    \n",
      "    \n",
      "    prob_X = np.sum(W_0,axis=0)*instance.dP\n",
      "    ax.plot(instance.X_range, prob_X , label = 'final')\n",
      "    \n",
      "    ax.set_xlabel('x')\n",
      "    ax.set_ylabel('Prob')\n",
      "    ax.grid('on')\n",
      "    \n",
      "    ax.legend(bbox_to_anchor=(0.75, 0.5), loc=2, prop={'size':22})"
     ],
     "language": "python",
     "metadata": {},
     "outputs": [],
     "prompt_number": 9
    },
    {
     "cell_type": "code",
     "collapsed": false,
     "input": [
      "PlotWigner( 5*instance.W_init)"
     ],
     "language": "python",
     "metadata": {},
     "outputs": [
      {
       "ename": "NameError",
       "evalue": "name 'PlotWigner' is not defined",
       "output_type": "pyerr",
       "traceback": [
        "\u001b[0;31m---------------------------------------------------------------------------\u001b[0m\n\u001b[0;31mNameError\u001b[0m                                 Traceback (most recent call last)",
        "\u001b[0;32m<ipython-input-1-c666a9168cbb>\u001b[0m in \u001b[0;36m<module>\u001b[0;34m()\u001b[0m\n\u001b[0;32m----> 1\u001b[0;31m \u001b[0mPlotWigner\u001b[0m\u001b[0;34m(\u001b[0m \u001b[0;36m5\u001b[0m\u001b[0;34m*\u001b[0m\u001b[0minstance\u001b[0m\u001b[0;34m.\u001b[0m\u001b[0mW_init\u001b[0m\u001b[0;34m)\u001b[0m\u001b[0;34m\u001b[0m\u001b[0m\n\u001b[0m",
        "\u001b[0;31mNameError\u001b[0m: name 'PlotWigner' is not defined"
       ]
      }
     ],
     "prompt_number": 1
    },
    {
     "cell_type": "code",
     "collapsed": false,
     "input": [
      "PlotWigner( 10*instance.W_end )\n",
      "print ' time = ', instance.timeRange[-1]"
     ],
     "language": "python",
     "metadata": {},
     "outputs": [
      {
       "output_type": "stream",
       "stream": "stdout",
       "text": [
        "min =  -0.0117492114665  max =  3.16108099669\n",
        "normalization =  10.0\n",
        " time = "
       ]
      },
      {
       "output_type": "stream",
       "stream": "stdout",
       "text": [
        " 10.0\n"
       ]
      },
      {
       "metadata": {},
       "output_type": "display_data",
       "png": "[encoded data removed]",
       "text": [
        "<matplotlib.figure.Figure at 0x7fe0e4e90450>"
       ]
      }
     ],
     "prompt_number": 11
    },
    {
     "cell_type": "code",
     "collapsed": false,
     "input": [
      "PlotMarginal_P( instance )\n",
      "PlotMarginal_X( instance )"
     ],
     "language": "python",
     "metadata": {},
     "outputs": [
      {
       "output_type": "stream",
       "stream": "stdout",
       "text": [
        " norm =   1.0\n",
        " norm =  "
       ]
      },
      {
       "output_type": "stream",
       "stream": "stdout",
       "text": [
        " 1.0\n"
       ]
      },
      {
       "metadata": {},
       "output_type": "display_data",
       "png": "[encoded data removed]",
       "text": [
        "<matplotlib.figure.Figure at 0x7fe0e4d6e5d0>"
       ]
      },
      {
       "metadata": {},
       "output_type": "display_data",
       "png": "[encoded data removed]",
       "text": [
        "<matplotlib.figure.Figure at 0x7fe0e4d6e550>"
       ]
      }
     ],
     "prompt_number": 12
    },
    {
     "cell_type": "code",
     "collapsed": false,
     "input": [
      "WendFilter = instance.W_end.copy()\n",
      "instance.FilterElectrons( WendFilter , 1)"
     ],
     "language": "python",
     "metadata": {},
     "outputs": [],
     "prompt_number": 13
    },
    {
     "cell_type": "code",
     "collapsed": false,
     "input": [
      "PlotWigner( 10*WendFilter )"
     ],
     "language": "python",
     "metadata": {},
     "outputs": [
      {
       "output_type": "stream",
       "stream": "stdout",
       "text": [
        "min =  -0.0200347146121  max =  3.13586574189\n",
        "normalization =  10.0\n"
       ]
      },
      {
       "metadata": {},
       "output_type": "display_data",
       "png": "[encoded data removed]",
       "text": [
        "<matplotlib.figure.Figure at 0x7fe0e4bb0250>"
       ]
      }
     ],
     "prompt_number": 14
    },
    {
     "cell_type": "heading",
     "level": 2,
     "metadata": {},
     "source": [
      "Ehrenfest Theorems"
     ]
    },
    {
     "cell_type": "code",
     "collapsed": false,
     "input": [
      "axis_font = {'size':'24'}\n",
      "\n",
      "\n",
      "fig, ax = plt.subplots(figsize=(20, 7))\n",
      "ax.plot( instance.timeRange[1:] ,   instance.X_Average.real  , 'g',\n",
      "        label= '$ x^1 $')\n",
      "\n",
      "\n",
      "ax.set_xlabel(r'$t$',**axis_font)\n",
      "\n",
      "ax.legend(bbox_to_anchor=(1.05, 1), loc=1, prop={'size':22})"
     ],
     "language": "python",
     "metadata": {},
     "outputs": [
      {
       "metadata": {},
       "output_type": "pyout",
       "prompt_number": 15,
       "text": [
        "<matplotlib.legend.Legend at 0x7fe0e4b4efd0>"
       ]
      },
      {
       "metadata": {},
       "output_type": "display_data",
       "png": "[encoded data removed]",
       "text": [
        "<matplotlib.figure.Figure at 0x7fe0e4d16150>"
       ]
      }
     ],
     "prompt_number": 15
    },
    {
     "cell_type": "code",
     "collapsed": false,
     "input": [
      "axis_font = {'size':'24'}\n",
      "\n",
      "fig, ax = plt.subplots(figsize=(20, 7))\n",
      "ax.plot( instance.timeRange[1:] ,   instance.P_Average.real  , 'g',\n",
      "        label= '$ p^1 $')\n",
      "\n",
      "ax.set_ylim(1, 3)\n",
      "\n",
      "ax.set_xlabel(r'$t$',**axis_font)\n",
      "\n",
      "ax.legend(bbox_to_anchor=(1.05, 1), loc=1, prop={'size':22})"
     ],
     "language": "python",
     "metadata": {},
     "outputs": [
      {
       "metadata": {},
       "output_type": "pyout",
       "prompt_number": 16,
       "text": [
        "<matplotlib.legend.Legend at 0x7fe0e4921fd0>"
       ]
      },
      {
       "metadata": {},
       "output_type": "display_data",
       "png": "[encoded data removed]",
       "text": [
        "<matplotlib.figure.Figure at 0x7fe0e4b4e850>"
       ]
      }
     ],
     "prompt_number": 16
    },
    {
     "cell_type": "code",
     "collapsed": false,
     "input": [
      "axis_font = {'size':'24'}\n",
      "\n",
      "\n",
      "fig, ax = plt.subplots(figsize=(20, 7))\n",
      "ax.plot( instance.timeRange[1:] ,  np.gradient( instance.X_Average.real , instance.dt)  , 'g',\n",
      "        label= '$\\\\frac{dx^1}{dt} $')\n",
      "\n",
      "ax.plot( instance.timeRange[1:] ,  instance.Alpha_1_Average.real ,'r--' ,label='$c \\\\alpha^1$')\n",
      "\n",
      "ax.set_ylim(0, 1)\n",
      "\n",
      "ax.set_xlabel(r'$t$',**axis_font)\n",
      "\n",
      "ax.legend(bbox_to_anchor=(1.05, 1), loc=1, prop={'size':22})"
     ],
     "language": "python",
     "metadata": {},
     "outputs": [
      {
       "metadata": {},
       "output_type": "pyout",
       "prompt_number": 17,
       "text": [
        "<matplotlib.legend.Legend at 0x7fe0e4859c50>"
       ]
      },
      {
       "metadata": {},
       "output_type": "display_data",
       "png": "[encoded data removed]",
       "text": [
        "<matplotlib.figure.Figure at 0x7fe0e4cfaad0>"
       ]
      }
     ],
     "prompt_number": 17
    },
    {
     "cell_type": "code",
     "collapsed": false,
     "input": [
      "axis_font = {'size':'24'}\n",
      "\n",
      "\n",
      "fig, ax = plt.subplots(figsize=(20, 7))\n",
      "ax.plot( instance.timeRange[1:] ,  np.gradient( instance.P_Average.real , instance.dt)  , 'g',\n",
      "        label= '$\\\\frac{dp^1}{dt} $')\n",
      "\n",
      "ax.plot( instance.timeRange[1:] , \n",
      "        -instance.D_1_Potential_0_Average.real - 2.*instance.mass*instance.gammaDamping*instance.Alpha_1_Average.real ,'r--' ,label='$-c e\\, \\\\partial_1 A_0  $')\n",
      "\n",
      "\n",
      "ax.set_ylim(-1, 1)\n",
      "\n",
      "\n",
      "ax.set_xlabel(r'$t$',**axis_font)\n",
      "\n",
      "ax.legend(bbox_to_anchor=(1.05, 1), loc=2, prop={'size':22})"
     ],
     "language": "python",
     "metadata": {},
     "outputs": [
      {
       "metadata": {},
       "output_type": "pyout",
       "prompt_number": 18,
       "text": [
        "<matplotlib.legend.Legend at 0x7fe0ed370f10>"
       ]
      },
      {
       "metadata": {},
       "output_type": "display_data",
       "png": "[encoded data removed]",
       "text": [
        "<matplotlib.figure.Figure at 0x7fe0e4e308d0>"
       ]
      }
     ],
     "prompt_number": 18
    },
    {
     "cell_type": "code",
     "collapsed": false,
     "input": [
      "axis_font = {'size':'24'}\n",
      "\n",
      "fig, ax = plt.subplots(figsize=(20, 7))\n",
      "ax.plot( instance.timeRange[1:] ,\n",
      "        2*np.gradient( instance.XP_Average.real , instance.dt)  , 'g',\n",
      "        label= '$\\\\frac{d}{dt}( x^1 p_1 ) $')\n",
      "\n",
      "ax.plot( instance.timeRange[1:] ,\n",
      "        -2*instance.X1_D_1_Potential_0_Average.real + 2*instance.c*instance.P1_Alpha_1_Average.real -4.*instance.mass*instance.gammaDamping*instance.X1_Alpha_1_Average,\n",
      "        'r--' ,label='$-2 x^1 \\\\partial_1 e A_0  + 2 c p_1 \\\\alpha^1$')\n",
      "\n",
      "ax.set_ylim(-10, 10)\n",
      "\n",
      "ax.set_xlabel(r'$t$',**axis_font)\n",
      "\n",
      "ax.legend(bbox_to_anchor=(1.05, 1), loc=2, prop={'size':22})"
     ],
     "language": "python",
     "metadata": {},
     "outputs": [
      {
       "metadata": {},
       "output_type": "pyout",
       "prompt_number": 19,
       "text": [
        "<matplotlib.legend.Legend at 0x7fe0e4b6e550>"
       ]
      },
      {
       "metadata": {},
       "output_type": "display_data",
       "png": "[encoded data removed]",
       "text": [
        "<matplotlib.figure.Figure at 0x7fe0e48f5dd0>"
       ]
      }
     ],
     "prompt_number": 19
    },
    {
     "cell_type": "code",
     "collapsed": false,
     "input": [
      "axis_font = {'size':'24'}\n",
      "\n",
      "fig, ax = plt.subplots(figsize=(20, 7))\n",
      "ax.plot( instance.timeRange[1:] ,\n",
      "        np.gradient( instance.XX_Average.real , instance.dt)  , 'g',\n",
      "        label= '$\\\\frac{d}{dt}( x^1 x_1 ) $')\n",
      "\n",
      "ax.plot( instance.timeRange[1:] ,\n",
      "      2*instance.c*instance.X1_Alpha_1_Average.real,\n",
      "        'r--' ,label='$2 c x_1 \\\\alpha^1$')\n",
      "\n",
      "\n",
      "ax.set_xlabel(r'$t$',**axis_font)\n",
      "\n",
      "ax.legend(bbox_to_anchor=(1.05, 1), loc=2, prop={'size':22})"
     ],
     "language": "python",
     "metadata": {},
     "outputs": [
      {
       "metadata": {},
       "output_type": "pyout",
       "prompt_number": 20,
       "text": [
        "<matplotlib.legend.Legend at 0x7fe0e8ea4850>"
       ]
      },
      {
       "metadata": {},
       "output_type": "display_data",
       "png": "[encoded data removed]",
       "text": [
        "<matplotlib.figure.Figure at 0x7fe0e4a9e650>"
       ]
      }
     ],
     "prompt_number": 20
    },
    {
     "cell_type": "code",
     "collapsed": false,
     "input": [
      "axis_font = {'size':'24'}\n",
      "\n",
      "fig, ax = plt.subplots(figsize=(20, 7))\n",
      "ax.plot( instance.timeRange[1:] ,\n",
      "        np.gradient( instance.PP_Average.real , instance.dt)  , 'g',\n",
      "        label= '$\\\\frac{d}{dt}( p^1 p_1 ) $')\n",
      "\n",
      "ax.plot( instance.timeRange[1:] ,\n",
      "       -2*instance.P1_D_1_Potential_0_Average.real - \\\n",
      "       4.*instance.mass*instance.gammaDamping*instance.P1_Alpha_1_Average.real,\n",
      "       'r--' ,label='$- c p^1 \\\\partial_1 A_0 $')\n",
      "\n",
      "ax.set_ylim(-1, 1)\n",
      "\n",
      "ax.set_xlabel(r'$t$',**axis_font)\n",
      "\n",
      "ax.legend(bbox_to_anchor=(1.05, 1), loc=2, prop={'size':22})"
     ],
     "language": "python",
     "metadata": {},
     "outputs": [
      {
       "metadata": {},
       "output_type": "pyout",
       "prompt_number": 21,
       "text": [
        "<matplotlib.legend.Legend at 0x7fe0e4b4e7d0>"
       ]
      },
      {
       "metadata": {},
       "output_type": "display_data",
       "png": "[encoded data removed]",
       "text": [
        "<matplotlib.figure.Figure at 0x7fe0e4c1c990>"
       ]
      }
     ],
     "prompt_number": 21
    },
    {
     "cell_type": "code",
     "collapsed": false,
     "input": [
      "axis_font = {'size':'24'}\n",
      "\n",
      "fig, ax = plt.subplots(figsize=(20, 7))\n",
      "ax.plot( instance.timeRange[1:] ,\n",
      "        instance.antiParticle_population.real  , 'g',\n",
      "        label= 'Antiparticle population')\n",
      "\n",
      "ax.set_ylim(-1, 1)\n",
      "\n",
      "ax.set_xlabel(r'$t$',**axis_font)\n",
      "\n",
      "ax.legend(bbox_to_anchor=(1.05, 1), loc=2, prop={'size':22})"
     ],
     "language": "python",
     "metadata": {},
     "outputs": [
      {
       "metadata": {},
       "output_type": "pyout",
       "prompt_number": 22,
       "text": [
        "<matplotlib.legend.Legend at 0x7fe0e4ce2d10>"
       ]
      },
      {
       "metadata": {},
       "output_type": "display_data",
       "png": "[encoded data removed]",
       "text": [
        "<matplotlib.figure.Figure at 0x7fe0ed18ad10>"
       ]
      }
     ],
     "prompt_number": 22
    },
    {
     "cell_type": "code",
     "collapsed": false,
     "input": [
      "axis_font = {'size':'24'}\n",
      "\n",
      "fig, ax = plt.subplots(figsize=(20, 7))\n",
      "ax.plot( instance.timeRange[1:] ,\n",
      "        instance.Dirac_energy.real  , 'g',\n",
      "        label= 'Energy')\n",
      "\n",
      "ax.set_ylim(2, 2.5)\n",
      "ax.set_xlabel(r'$t$',**axis_font)\n",
      "ax.grid('on')\n",
      "\n",
      "ax.legend(bbox_to_anchor=(1.05, 1), loc=2, prop={'size':22})"
     ],
     "language": "python",
     "metadata": {},
     "outputs": [
      {
       "metadata": {},
       "output_type": "pyout",
       "prompt_number": 23,
       "text": [
        "<matplotlib.legend.Legend at 0x7fe0e8ef1a50>"
       ]
      },
      {
       "metadata": {},
       "output_type": "display_data",
       "png": "[encoded data removed]",
       "text": [
        "<matplotlib.figure.Figure at 0x7fe0e4e40c10>"
       ]
      }
     ],
     "prompt_number": 23
    },
    {
     "cell_type": "code",
     "collapsed": true,
     "input": [],
     "language": "python",
     "metadata": {},
     "outputs": [],
     "prompt_number": 23
    }
   ],
   "metadata": {}
  }
 ]
}